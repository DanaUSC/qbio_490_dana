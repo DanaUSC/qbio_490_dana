{
 "cells": [
  {
   "cell_type": "code",
   "execution_count": 65,
   "id": "74f627ca-9c78-4d6d-92f7-d59fb31aca30",
   "metadata": {},
   "outputs": [
    {
     "name": "stdout",
     "output_type": "stream",
     "text": [
      "                                          \r"
     ]
    }
   ],
   "source": [
    "#IMPORTs\n",
    "import pandas as pd\n",
    "import numpy as np\n",
    "\n",
    "import os\n",
    "os.chdir('/Users/danasouter/desktop/qbio490/qbio_490_dana/analysis_data')\n",
    "\n",
    "import cptac\n",
    "\n",
    "cptac.list_datasets()\n",
    "\n",
    "cptac.download(dataset=\"ccrcc\")\n",
    "\n",
    "ccrcc = cptac.Ccrcc()\n",
    "\n",
    "protein_data = ccrcc.get_proteomics()\n",
    "rna_data = ccrcc.get_transcriptomics()\n",
    "clinical_data = ccrcc.get_clinical()"
   ]
  },
  {
   "cell_type": "code",
   "execution_count": 66,
   "id": "7a3bc80a-6c42-48b2-8fbd-cdb59ea70837",
   "metadata": {},
   "outputs": [
    {
     "name": "stdout",
     "output_type": "stream",
     "text": [
      "['Sample_Tumor_Normal', 'tumor/normal', 'gender', 'age', 'height_in_cm', 'height_in_inch', 'weight_in_kg', 'weight_in_lb', 'BMI', 'race', 'ethnicity', 'ethnicity_self_identified', 'tumor_site', 'tumor_site_other', 'tumor_size_in_cm', 'tumor_focality', 'histologic_type', 'histologic_type_other', 'histologic_grade', 'grading_system', 'tumor_stage_pathological', 'AJCC_or_TNM_cancer_staging_edition', 'sarcomatoid_features', 'sarcomatiod_percent', 'pathologic_staging_primary_tumor_pT', 'pathologic_staging_regional_lymph_nodes_pN', 'pathologic_staging_distant_metastasis_pM', 'clinical_staging_distant_metastasis_cM', 'serum_calcium', 'hemoglobin', 'platelets', 'white_cell_count', 'history_of_cancer', 'history_of_cancer_treatment', 'vital_status_at_12months_follow_up', 'vital_status_at_24months_follow_up', 'participant_in_US', 'participant_country_of_origin', 'tumor_laterality', 'tumor_necrosis', 'margin_status', 'number_of_lymph_nodes_examined', 'lymph_nodes_positive_for_tumor_by_IHC_staining_only', 'IHC_staining_not_done', 'number_of_positive_lymph_nodes_by_HE_staining', 'specify_distant_metastasis_documented_sites', 'residual_tumor', 'pathologic_findings_not_identified_in_nonneoplastic_kidney', 'glomerular_disease', 'tubulointerstitial_disease', 'vascular_disease', 'pathologic_findings_in_nonneoplastic_kidney', 'pathologic_findings_in_nonneoplastic_kidney_specify', 'paraneoplastic_syndrome', 'other_immunohistochemistry_performed', 'other_immunohistochemistry_specify', 'other_testing_performed', 'other_testing_specify', 'erythrocyte_sedimentation_rate', 'renal_vein_or_vena_cava_thrombosis', 'other_coagulopathies', 'alcohol_consumption', 'number_of_years_consumed_more_than 2_drinks_per_day_for_men_or_more_than_1_for_women', 'tobacco_smoking_history', 'age_started_smoking', 'age_stopped_smoking', 'how_many_cigarettes_usually_smoke_on_the_days_participant_smoked', 'number_of_pack_years_smoked', 'exposure_to_secondhand_smoke', 'exposure_to_secondhand_smoke_during_childhood', 'exposure_to_secondhand_smoke_at_current_household', 'cancer_history_source', 'cancer_history_cancer_type', 'medical_records_of_cancer_history_exist', 'tumor_tissue_collection_clamps_used', 'tumor_tissue_collection_frozen_with_OCT', 'preoperative_IV_sedation_administered', 'preoperative_IV_opiates_administered', 'preoperative_IV_antiemetics_administered', 'preoperative_IV_anti_acids_administered', 'other_preoperative_IV_medications_administered', 'local_anesthesia_agents_administered', 'regional_anesthesia_agents_administered', 'IV_anesthesia_agents_administered', 'IV_narcotic_opiate_agents_administered', 'IV_muscle_relaxants_administered', 'inhalation_anesthesia_agents_administered', 'additional_anesthesia', 'anesthesia_insulin', 'anesthesia_steroids', 'anesthesia_antibiotics', 'other_medications_administered_during_surgery', 'surgical_procedure', 'epochs_of_oxygen_desaturation', 'CO2_level_recorded_at_time_closest_to_organ_excision', 'time_specimen_left_OR', 'first_participant_temperature_recorded_in_OR', 'first_temperature_recorded_in_OR_units', 'first_temperature_recorded_in_OR_celsius', 'first_temperature_recorded_in_OR_fahrenheit', 'time_of_first_temperature', 'second_participant_temperature_recorded_in_OR', 'second_temperature_recorded_in_OR_units', 'second_temperature_recorded_in_OR_celsius', 'second_temperature_recorded_in_OR_fahrenheit', 'time_of_second_temperature', 'days_from_initial_diagnosis_to_new_tumor_event_after_initial_treatment', 'Karnofsky_score_at_12months_follow_up', 'Karnofsky_score_at_24months_follow_up', 'tumor_status_at_12months_follow_up', 'tumor_status_at_24months_follow_up', 'performance_status_scale_timing_at_12months_follow_up', 'performance_status_scale_timing_at_24months_follow_up', 'additional_surgery_for_new_tumor_event_at_12months_follow_up', 'additional_surgery_for_new_tumor_event_at_24months_follow_up', 'cause_of_death_at_12months_follow_up', 'cause_of_death_at_24months_follow_up', 'adjuvant_postoperative_radiation_therapy_at_12months_follow_up', 'adjuvant_postoperative_radiation_therapy_at_24months_follow_up', 'immunological_treatment_for_new_tumor_event_at_12months_follow_up', 'immunological_treatment_for_new_tumor_event_at_24months_follow_up', 'additional_surgery_for_metastasis_at_12months_follow_up', 'additional_surgery_for_metastasis_at_24months_follow_up', 'additional_treatment_for_new_tumor_event_radiation_at_12months_follow_up', 'additional_treatment_for_new_tumor_event_radiation_at_24months_follow_up', 'days_from_initial_diagnosis_to_additional_surgery_for_metastasis_at_12months_follow_up', 'days_from_initial_diagnosis_to_additional_surgery_for_metastasis_at_24months_follow_up', 'is_this_patient_lost_at_12months_follow_up', 'is_this_patient_lost_at_24months_follow_up', 'success_of_initial_treatment_at_12months_follow_up', 'success_of_initial_treatment_at_24months_follow_up', 'success_of_treatment_at_12months_follow_up', 'success_of_treatment_at_24months_follow_up', 'adjuvant_postoperative_immunological_therapy_at_12months_follow_up', 'adjuvant_postoperative_immunological_therapy_at_24months_follow_up', 'adjuvant_postoperative_pharmaceutical_therapy_at_12months_follow_up', 'adjuvant_postoperative_pharmaceutical_therapy_at_24months_follow_up', 'additional_treatment_for_new_tumor_event_pharmaceutical_at_12months_follow_up', 'additional_treatment_for_new_tumor_event_pharmaceutical_at_24months_follow_up', 'ECOG_score_at_12months_follow_up', 'ECOG_score_at_24months_follow_up', 'days_from_initial_pathologic_diagnosis_to_death_at_12months_follow_up', 'days_from_initial_pathologic_diagnosis_to_death_at_24months_follow_up', 'new_tumor_event_after_initial_treatment_at_12months_follow_up', 'new_tumor_event_after_initial_treatment_at_24months_follow_up', 'days_from_date_initial_diagnosis_to_additional_surgery_for_new_tumor_event_at_12months_follow_up', 'days_from_date_initial_diagnosis_to_additional_surgery_for_new_tumor_event_at_24months_follow_up', 'days_from_initial_diagnosis_to_last_contact_at_12months_follow_up', 'days_from_initial_diagnosis_to_last_contact_at_24months_follow_up', 'specimen_id', 'slide_id', 'Presence_sarcomatoid_features', 'describe_sarcomatoid_features', 'histological_type_eligible', 'percent_tumor_surface_area', 'percent_total_cellularity', 'non_cellular_component_description', 'percent_tumor_nuclei', 'percent_necrotic_surface_area', 'meets_required_criteria', 'criteria_not_met', 'histologic_type_of_normal_tissue', 'slide_is_free_of_tumor', 'consistent_with_local_pathology_report', 'findings_not_consistent_with_local_pathology_report', 'weight_in_mg', 'minutes_clamp_1_to_collection', 'minutes_clamp_2_to_collection', 'minutes_collection_to_frozen', 'consistent_with_diagnostic_report', 'patient_medications']\n"
     ]
    }
   ],
   "source": [
    "#print(clinical_data.columns.tolist())\n"
   ]
  },
  {
   "cell_type": "code",
   "execution_count": 67,
   "id": "ff46ca22-1686-408d-963b-07ac78b85cf7",
   "metadata": {},
   "outputs": [],
   "source": [
    "#1) Select what features to include in the model by finding the top 5 most differentially\n",
    "#expressed proteins between Stage I and Stage III patients in CPTAC protein data. Repeat\n",
    "#this process to find the top 5 most differential expression RNA between Stage I and Stage\n",
    "#III patients in the CPTAC RNA data.\n",
    "\n",
    "#a) Use tumor_stage_pathological in the CPTAC clinical data.\n",
    "\n",
    "#//use if statements\n",
    "if isinstance(protein_data.columns, pd.MultiIndex):\n",
    "    protein_data.columns = protein_data.columns.get_level_values(0)\n",
    "if isinstance(rna_data.columns, pd.MultiIndex):\n",
    "    rna_data.columns = rna_data.columns.get_level_values(0)\n",
    "    \n",
    "protein_data_merged = protein_data.merge(clinical_data[['tumor_stage_pathological']], left_index=True, right_index=True)\n",
    "rna_data_merged = rna_data.merge(clinical_data[['tumor_stage_pathological']], left_index=True, right_index=True)\n",
    "\n",
    "stage_I_protein = protein_data_merged[protein_data_merged['tumor_stage_pathological'] == 'Stage I']\n",
    "stage_III_protein = protein_data_merged[protein_data_merged['tumor_stage_pathological'] == 'Stage III']\n",
    "\n",
    "stage_I_rna = rna_data_merged[rna_data_merged['tumor_stage_pathological'] == 'Stage I']\n",
    "stage_III_rna = rna_data_merged[rna_data_merged['tumor_stage_pathological'] == 'Stage III']\n",
    "\n",
    "# For Proteins\n",
    "diff_proteins = abs(stage_I_protein.drop(['tumor_stage_pathological'], axis=1).mean() - stage_III_protein.drop(['tumor_stage_pathological'], axis=1).mean())\n",
    "top_5_proteins = diff_proteins.nlargest(5).index.tolist()\n",
    "\n",
    "# For RNA \n",
    "stage_I_rna_log = np.log2(stage_I_rna.drop(['tumor_stage_pathological'], axis=1) + 1)\n",
    "stage_III_rna_log = np.log2(stage_III_rna.drop(['tumor_stage_pathological'], axis=1) + 1)\n",
    "diff_rna = abs(stage_I_rna_log.mean() - stage_III_rna_log.mean())\n",
    "top_5_rna = diff_rna.nlargest(5).index.tolist()\n"
   ]
  },
  {
   "cell_type": "code",
   "execution_count": 68,
   "id": "75e78f92-7e60-4634-9f14-4390e3c267c7",
   "metadata": {},
   "outputs": [],
   "source": [
    "#2) Create a new dataframe of your selected features, where the rows are the patients and the\n",
    "#columns are the expression values of genes you selected in step 1 (X data).\n",
    "\n",
    "selected_features = top_5_proteins + top_5_rna\n",
    "\n",
    "# For Proteins\n",
    "selected_protein_data = protein_data_merged[top_5_proteins]\n",
    "\n",
    "# For RNA\n",
    "selected_rna_data = rna_data_merged[top_5_rna]\n",
    "\n",
    "X_data = pd.concat([selected_protein_data, selected_rna_data], axis=1)\n",
    "X_data_filled = X_data.fillna(X_data.mean())\n",
    "\n",
    "#print(X_data_filled)"
   ]
  },
  {
   "cell_type": "code",
   "execution_count": 69,
   "id": "fd36fd7a-e6fc-4e8b-bbda-abb2029ecd7b",
   "metadata": {},
   "outputs": [],
   "source": [
    "#3) Create a separate list of the patients’ cancer stages, ie. tumor_stage_pathological (y data).\n",
    "\n",
    "y_data = clinical_data['tumor_stage_pathological']\n",
    "y_data_aligned = y_data.loc[X_data.index]\n",
    "y_data_list = y_data_aligned.tolist()\n"
   ]
  },
  {
   "cell_type": "code",
   "execution_count": 70,
   "id": "fb73b456-46a2-49cc-bd40-eff21b7e24f3",
   "metadata": {},
   "outputs": [],
   "source": [
    "#4) Scale and encode your features and target.\n",
    "\n",
    "from sklearn.preprocessing import StandardScaler\n",
    "scaler = StandardScaler()\n",
    "X_scaled = scaler.fit_transform(X_data)\n",
    "\n",
    "from sklearn.preprocessing import LabelEncoder\n",
    "encoder = LabelEncoder()\n",
    "y_encoded = encoder.fit_transform(y_data_aligned)\n"
   ]
  },
  {
   "cell_type": "code",
   "execution_count": 71,
   "id": "49dac101-6817-4fbd-86b8-6b2e54182f81",
   "metadata": {},
   "outputs": [],
   "source": [
    "#5) Create a train test split of your X and y data with train_size=0.7.\n",
    "\n",
    "from sklearn.model_selection import train_test_split\n",
    "\n",
    "# Split the data \n",
    "X_train, X_test, y_train, y_test = train_test_split(X_scaled, y_encoded, train_size=0.7, random_state=42)\n",
    "\n",
    "#print(f\"X_train shape: {X_train.shape}\")\n",
    "#print(f\"X_test shape: {X_test.shape}\")\n",
    "#print(f\"y_train shape: {y_train.shape}\")\n",
    "#print(f\"y_test shape: {y_test.shape}\")\n"
   ]
  },
  {
   "cell_type": "code",
   "execution_count": 72,
   "id": "0e60e8bf-fa3c-46bc-830d-0b1aaa84198b",
   "metadata": {},
   "outputs": [
    {
     "name": "stdout",
     "output_type": "stream",
     "text": [
      "KNeighborsClassifier: Average Accuracy = 0.6983\n",
      "DecisionTreeClassifier: Average Accuracy = 0.6373\n",
      "MLPClassifier: Average Accuracy = 0.6475\n",
      "GaussianNB: Average Accuracy = 0.5763\n"
     ]
    }
   ],
   "source": [
    "#6) Write code to test the accuracy of all 4 classification models we covered in this class (ie.\n",
    "#KNeighborsClassifier, DecisionTreeClassifier, and MLPClassifier, GaussianNB). Since\n",
    "#the accuracy of the models will change depending on the train-test split, you will need to\n",
    "#run each model 10 times and find the average accuracy between all runs.\n",
    "\n",
    "encoder = LabelEncoder()\n",
    "y_encoded = encoder.fit_transform(y_data)\n",
    "\n",
    "# Define \n",
    "models = {\n",
    "    \"KNeighborsClassifier\": KNeighborsClassifier(),\n",
    "    \"DecisionTreeClassifier\": DecisionTreeClassifier(),\n",
    "    \"MLPClassifier\": MLPClassifier(max_iter=1000),  \n",
    "    \"GaussianNB\": GaussianNB()\n",
    "}\n",
    "\n",
    "# # of runs\n",
    "n_runs = 10\n",
    "\n",
    "# accuracy \n",
    "accuracies = {model_name: [] for model_name in models}\n",
    "\n",
    "# Run each 10 times\n",
    "for run in range(n_runs):\n",
    "    X_train, X_test, y_train, y_test = train_test_split(X_imputed, y_encoded, train_size=0.7, random_state=run)\n",
    "\n",
    "    for model_name, model in models.items():\n",
    "        # Train model\n",
    "        model.fit(X_train, y_train)\n",
    "\n",
    "        y_pred = model.predict(X_test)\n",
    "        accuracy = accuracy_score(y_test, y_pred)\n",
    "        accuracies[model_name].append(accuracy)\n",
    "\n",
    "average_accuracies = {model_name: np.mean(acc) for model_name, acc in accuracies.items()}\n",
    "\n",
    "for model_name, avg_acc in average_accuracies.items():\n",
    "    print(f\"{model_name}: Average Accuracy = {avg_acc:.4f}\")\n",
    "\n"
   ]
  },
  {
   "cell_type": "code",
   "execution_count": 73,
   "id": "6b48d72c-baee-40d8-adc0-88e457afcfa7",
   "metadata": {},
   "outputs": [
    {
     "name": "stdout",
     "output_type": "stream",
     "text": [
      "\n",
      "The best model is KNeighborsClassifier with an Average Accuracy of 0.6983.\n"
     ]
    }
   ],
   "source": [
    "#7) Compare the 4 mean accuracies and identify which model is best.\n",
    "\n",
    "best_model_name = max(average_accuracies, key=average_accuracies.get)\n",
    "best_model_accuracy = average_accuracies[best_model_name]\n",
    "\n",
    "print(f\"\\nThe best model is {best_model_name} with an Average Accuracy of {best_model_accuracy:.4f}.\")"
   ]
  },
  {
   "cell_type": "code",
   "execution_count": null,
   "id": "bf57140b-d0b6-4c48-806d-c6610d5941fa",
   "metadata": {},
   "outputs": [],
   "source": []
  }
 ],
 "metadata": {
  "kernelspec": {
   "display_name": "Python 3 (ipykernel)",
   "language": "python",
   "name": "python3"
  },
  "language_info": {
   "codemirror_mode": {
    "name": "ipython",
    "version": 3
   },
   "file_extension": ".py",
   "mimetype": "text/x-python",
   "name": "python",
   "nbconvert_exporter": "python",
   "pygments_lexer": "ipython3",
   "version": "3.9.18"
  }
 },
 "nbformat": 4,
 "nbformat_minor": 5
}
