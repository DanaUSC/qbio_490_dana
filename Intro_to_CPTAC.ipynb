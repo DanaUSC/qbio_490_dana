{
 "cells": [
  {
   "cell_type": "markdown",
   "id": "9f3b6a87",
   "metadata": {},
   "source": [
    "# Introduction to CPTAC and Proteomics\n",
    "\n",
    "This document will take you through the basics of CPTAC and analyzing proteomic data in python. Let's get started!"
   ]
  },
  {
   "cell_type": "markdown",
   "id": "64ad08b5",
   "metadata": {},
   "source": [
    "## Setting up your working directory\n",
    "\n",
    "Set your working directory to your analysis_data folder."
   ]
  },
  {
   "cell_type": "code",
   "execution_count": 3,
   "id": "a53acaad",
   "metadata": {},
   "outputs": [],
   "source": [
    "import os\n",
    "\n",
    "os.chdir('/Users/danasouter/desktop/qbio490/qbio_490_dana/analysis_data')\n"
   ]
  },
  {
   "cell_type": "markdown",
   "id": "bcf734ad",
   "metadata": {},
   "source": [
    "### Start exploring CPTAC with `cptac`\n",
    "Similar to TCGAbiolinks, we need to load the package and download the data before using.\n",
    "1. Import the package (`cptac`).\n",
    "2. Look at the data sets available to us with the list_datasets() function. As a reminder, remember the package_name.method() syntax!\n",
    "3. Download the cancer you'll be working with. \n",
    "4. Load it into our python environment."
   ]
  },
  {
   "cell_type": "code",
   "execution_count": 6,
   "id": "3274cad7",
   "metadata": {},
   "outputs": [
    {
     "data": {
      "text/html": [
       "<div>\n",
       "<style scoped>\n",
       "    .dataframe tbody tr th:only-of-type {\n",
       "        vertical-align: middle;\n",
       "    }\n",
       "\n",
       "    .dataframe tbody tr th {\n",
       "        vertical-align: top;\n",
       "    }\n",
       "\n",
       "    .dataframe thead th {\n",
       "        text-align: right;\n",
       "    }\n",
       "</style>\n",
       "<table border=\"1\" class=\"dataframe\">\n",
       "  <thead>\n",
       "    <tr style=\"text-align: right;\">\n",
       "      <th></th>\n",
       "      <th>Description</th>\n",
       "      <th>Data reuse status</th>\n",
       "      <th>Publication link</th>\n",
       "    </tr>\n",
       "    <tr>\n",
       "      <th>Dataset name</th>\n",
       "      <th></th>\n",
       "      <th></th>\n",
       "      <th></th>\n",
       "    </tr>\n",
       "  </thead>\n",
       "  <tbody>\n",
       "    <tr>\n",
       "      <th>Brca</th>\n",
       "      <td>breast cancer</td>\n",
       "      <td>no restrictions</td>\n",
       "      <td>https://pubmed.ncbi.nlm.nih.gov/33212010/</td>\n",
       "    </tr>\n",
       "    <tr>\n",
       "      <th>Ccrcc</th>\n",
       "      <td>clear cell renal cell carcinoma (kidney)</td>\n",
       "      <td>no restrictions</td>\n",
       "      <td>https://pubmed.ncbi.nlm.nih.gov/31675502/</td>\n",
       "    </tr>\n",
       "    <tr>\n",
       "      <th>Colon</th>\n",
       "      <td>colorectal cancer</td>\n",
       "      <td>no restrictions</td>\n",
       "      <td>https://pubmed.ncbi.nlm.nih.gov/31031003/</td>\n",
       "    </tr>\n",
       "    <tr>\n",
       "      <th>Endometrial</th>\n",
       "      <td>endometrial carcinoma (uterine)</td>\n",
       "      <td>no restrictions</td>\n",
       "      <td>https://pubmed.ncbi.nlm.nih.gov/32059776/</td>\n",
       "    </tr>\n",
       "    <tr>\n",
       "      <th>Gbm</th>\n",
       "      <td>glioblastoma</td>\n",
       "      <td>no restrictions</td>\n",
       "      <td>https://pubmed.ncbi.nlm.nih.gov/33577785/</td>\n",
       "    </tr>\n",
       "    <tr>\n",
       "      <th>Hnscc</th>\n",
       "      <td>head and neck squamous cell carcinoma</td>\n",
       "      <td>no restrictions</td>\n",
       "      <td>https://pubmed.ncbi.nlm.nih.gov/33417831/</td>\n",
       "    </tr>\n",
       "    <tr>\n",
       "      <th>Lscc</th>\n",
       "      <td>lung squamous cell carcinoma</td>\n",
       "      <td>no restrictions</td>\n",
       "      <td>https://pubmed.ncbi.nlm.nih.gov/34358469/</td>\n",
       "    </tr>\n",
       "    <tr>\n",
       "      <th>Luad</th>\n",
       "      <td>lung adenocarcinoma</td>\n",
       "      <td>no restrictions</td>\n",
       "      <td>https://pubmed.ncbi.nlm.nih.gov/32649874/</td>\n",
       "    </tr>\n",
       "    <tr>\n",
       "      <th>Ovarian</th>\n",
       "      <td>high grade serous ovarian cancer</td>\n",
       "      <td>no restrictions</td>\n",
       "      <td>https://pubmed.ncbi.nlm.nih.gov/27372738/</td>\n",
       "    </tr>\n",
       "    <tr>\n",
       "      <th>Pdac</th>\n",
       "      <td>pancreatic ductal adenocarcinoma</td>\n",
       "      <td>no restrictions</td>\n",
       "      <td>https://pubmed.ncbi.nlm.nih.gov/34534465/</td>\n",
       "    </tr>\n",
       "    <tr>\n",
       "      <th>UcecConf</th>\n",
       "      <td>endometrial confirmatory carcinoma</td>\n",
       "      <td>password access only</td>\n",
       "      <td>unpublished</td>\n",
       "    </tr>\n",
       "    <tr>\n",
       "      <th>GbmConf</th>\n",
       "      <td>glioblastoma confirmatory</td>\n",
       "      <td>password access only</td>\n",
       "      <td>unpublished</td>\n",
       "    </tr>\n",
       "  </tbody>\n",
       "</table>\n",
       "</div>"
      ],
      "text/plain": [
       "                                           Description     Data reuse status  \\\n",
       "Dataset name                                                                   \n",
       "Brca                                     breast cancer       no restrictions   \n",
       "Ccrcc         clear cell renal cell carcinoma (kidney)       no restrictions   \n",
       "Colon                                colorectal cancer       no restrictions   \n",
       "Endometrial            endometrial carcinoma (uterine)       no restrictions   \n",
       "Gbm                                       glioblastoma       no restrictions   \n",
       "Hnscc            head and neck squamous cell carcinoma       no restrictions   \n",
       "Lscc                      lung squamous cell carcinoma       no restrictions   \n",
       "Luad                               lung adenocarcinoma       no restrictions   \n",
       "Ovarian               high grade serous ovarian cancer       no restrictions   \n",
       "Pdac                  pancreatic ductal adenocarcinoma       no restrictions   \n",
       "UcecConf            endometrial confirmatory carcinoma  password access only   \n",
       "GbmConf                      glioblastoma confirmatory  password access only   \n",
       "\n",
       "                                       Publication link  \n",
       "Dataset name                                             \n",
       "Brca          https://pubmed.ncbi.nlm.nih.gov/33212010/  \n",
       "Ccrcc         https://pubmed.ncbi.nlm.nih.gov/31675502/  \n",
       "Colon         https://pubmed.ncbi.nlm.nih.gov/31031003/  \n",
       "Endometrial   https://pubmed.ncbi.nlm.nih.gov/32059776/  \n",
       "Gbm           https://pubmed.ncbi.nlm.nih.gov/33577785/  \n",
       "Hnscc         https://pubmed.ncbi.nlm.nih.gov/33417831/  \n",
       "Lscc          https://pubmed.ncbi.nlm.nih.gov/34358469/  \n",
       "Luad          https://pubmed.ncbi.nlm.nih.gov/32649874/  \n",
       "Ovarian       https://pubmed.ncbi.nlm.nih.gov/27372738/  \n",
       "Pdac          https://pubmed.ncbi.nlm.nih.gov/34534465/  \n",
       "UcecConf                                    unpublished  \n",
       "GbmConf                                     unpublished  "
      ]
     },
     "execution_count": 6,
     "metadata": {},
     "output_type": "execute_result"
    }
   ],
   "source": [
    "# 1. Import cptac\n",
    "import cptac\n",
    "\n",
    "# 2. Examine the data sets available with list_datasets()\n",
    "cptac.list_datasets()"
   ]
  },
  {
   "cell_type": "code",
   "execution_count": 7,
   "id": "aeb53aa2",
   "metadata": {},
   "outputs": [
    {
     "name": "stdout",
     "output_type": "stream",
     "text": [
      "                                         \r"
     ]
    }
   ],
   "source": [
    "# 3. Download the cancer data set -- fill in dataset!\n",
    "#cptac.download(dataset=\"FILL IN HERE\")\n",
    "cptac.download(dataset=\"brca\")\n",
    "\n",
    "\n",
    "# 4. Load the cancer data\n",
    "# ie. brca = cptac.Brca\n",
    "brca = cptac.Brca()\n"
   ]
  },
  {
   "cell_type": "markdown",
   "id": "fadf54d4",
   "metadata": {},
   "source": [
    "Now, we have our object containing a bunch of data. We can use the list_data() function the data available for the cancer dataset.\n",
    "<br></br>\n",
    "In addition to the proteomics data, we can also accesss the accompanying transcriptomics, CNV, etc. using this object. We will focus on the omics which we have already seen for this course; however, other data present in this dataset are also pretty interesting. Finally, many proteins can't be identified very well, so they won't appear as a column (for example, APC isn't in the proteomics data set).\n",
    "<br></br>\n",
    "**Exercise 1.1** Call the list_data() function from the object to examine the different data contained in the object. Much like calling functions from a package, we can use the cancer.function() syntax.\n",
    "\n",
    "* How many patients do you think there are in this dataset? (Make an educated guess about this from the dimensions - we'll confirm your answer later on)"
   ]
  },
  {
   "cell_type": "code",
   "execution_count": 8,
   "id": "f96afeaf",
   "metadata": {
    "scrolled": true
   },
   "outputs": [
    {
     "name": "stdout",
     "output_type": "stream",
     "text": [
      "Below are the dataframes contained in this dataset and their dimensions:\n",
      "\n",
      "acetylproteomics\n",
      "\t122 rows\n",
      "\t9868 columns\n",
      "clinical\n",
      "\t122 rows\n",
      "\t18 columns\n",
      "CNV\n",
      "\t122 rows\n",
      "\t23692 columns\n",
      "derived_molecular\n",
      "\t122 rows\n",
      "\t36 columns\n",
      "phosphoproteomics\n",
      "\t122 rows\n",
      "\t38775 columns\n",
      "proteomics\n",
      "\t122 rows\n",
      "\t10107 columns\n",
      "somatic_mutation\n",
      "\t24106 rows\n",
      "\t3 columns\n",
      "transcriptomics\n",
      "\t122 rows\n",
      "\t23121 columns\n"
     ]
    }
   ],
   "source": [
    "# Run the list_data() function\n",
    "brca.list_data()\n"
   ]
  },
  {
   "cell_type": "markdown",
   "id": "ab6034bd",
   "metadata": {},
   "source": [
    "**Exercise 1.2** Use the get_proteomics() function to store the proteomics data into a new data frame."
   ]
  },
  {
   "cell_type": "code",
   "execution_count": 13,
   "id": "2f7abc05",
   "metadata": {},
   "outputs": [],
   "source": [
    "protein_data = brca.get_proteomics()  # get the proteomics data\n",
    "protein_data # view the data\n",
    "\n",
    "\n",
    "# Uncomment and run this command after you get the data, you don't really need to know what it does but it collapses\n",
    "# the column names and gets rid of the database_IDs which will make our lives much easier!\n",
    "\n",
    "protein_data.columns = protein_data.columns.get_level_values(0) \n"
   ]
  },
  {
   "cell_type": "markdown",
   "id": "1188f104",
   "metadata": {},
   "source": [
    "## (2) Exploring the Data\n",
    "\n",
    "As mentioned earlier, `cptac` data is in the form of `pandas` dataframes. Let's load that and `numpy`. \n",
    "\n",
    "**Exercise 2.1** Import numpy and pandas with their usual shortened names (pd and np)."
   ]
  },
  {
   "cell_type": "code",
   "execution_count": 15,
   "id": "8ace4453",
   "metadata": {
    "scrolled": true
   },
   "outputs": [],
   "source": [
    "# import packages here\n",
    "import numpy as np\n",
    "import pandas as pd"
   ]
  },
  {
   "cell_type": "markdown",
   "id": "2b18a548",
   "metadata": {},
   "source": [
    "Remember that we can access the rows/column names of a data frame in two ways:\n",
    "1. We can get the row and column names together in a list with the `axes` attribute.\n",
    "2. We can get the row or column names individually in the `index` (row) or `columns` (column) attribute.\n",
    "<br></br>\n",
    "**Exercise 2.2** Print the axes, index, and columns of the protein_data object. Then, determine its dimensions using the shape attribute. Finally, answer the following questions:\n",
    "\n",
    "* How many rows and columns are there in the data frame?\n",
    "* What do the rows and columns represent?\n",
    "* How many patients are there?\n",
    "* What about proteins?"
   ]
  },
  {
   "cell_type": "code",
   "execution_count": 18,
   "id": "1501f26c",
   "metadata": {},
   "outputs": [
    {
     "name": "stdout",
     "output_type": "stream",
     "text": [
      "Axes: [Index(['CPT000814', 'CPT001846', 'X01BR001', 'X01BR008', 'X01BR009',\n",
      "       'X01BR010', 'X01BR015', 'X01BR017', 'X01BR018', 'X01BR020',\n",
      "       ...\n",
      "       'X20BR002', 'X20BR005', 'X20BR006', 'X20BR007', 'X20BR008', 'X21BR001',\n",
      "       'X21BR002', 'X21BR010', 'X22BR005', 'X22BR006'],\n",
      "      dtype='object', name='Patient_ID', length=122), Index(['A1BG', 'A2M', 'A2ML1', 'AAAS', 'AACS', 'AADAT', 'AAED1', 'AAGAB',\n",
      "       'AAK1', 'AAMDC',\n",
      "       ...\n",
      "       'ZSCAN31', 'ZSWIM8', 'ZW10', 'ZWILCH', 'ZWINT', 'ZXDC', 'ZYG11B', 'ZYX',\n",
      "       'ZZEF1', 'ZZZ3'],\n",
      "      dtype='object', name='Name', length=10107)]\n",
      "Index (rows): Index(['CPT000814', 'CPT001846', 'X01BR001', 'X01BR008', 'X01BR009',\n",
      "       'X01BR010', 'X01BR015', 'X01BR017', 'X01BR018', 'X01BR020',\n",
      "       ...\n",
      "       'X20BR002', 'X20BR005', 'X20BR006', 'X20BR007', 'X20BR008', 'X21BR001',\n",
      "       'X21BR002', 'X21BR010', 'X22BR005', 'X22BR006'],\n",
      "      dtype='object', name='Patient_ID', length=122)\n",
      "Columns: Index(['A1BG', 'A2M', 'A2ML1', 'AAAS', 'AACS', 'AADAT', 'AAED1', 'AAGAB',\n",
      "       'AAK1', 'AAMDC',\n",
      "       ...\n",
      "       'ZSCAN31', 'ZSWIM8', 'ZW10', 'ZWILCH', 'ZWINT', 'ZXDC', 'ZYG11B', 'ZYX',\n",
      "       'ZZEF1', 'ZZZ3'],\n",
      "      dtype='object', name='Name', length=10107)\n",
      "Number of rows: 122\n",
      "Number of columns: 10107\n",
      "Number of patients: 122\n",
      "Number of proteins: 10107\n"
     ]
    }
   ],
   "source": [
    "## Explore the data frame here and answer questions\n",
    "\n",
    "#Number of rows: 122\n",
    "#Number of columns: 10107\n",
    "#Number of patients: 122\n",
    "#Number of proteins: 10107\n",
    "\n",
    "print(\"Axes:\", protein_data.axes)\n",
    "print(\"Index (rows):\", protein_data.index)\n",
    "print(\"Columns:\", protein_data.columns)\n",
    "\n",
    "num_rows, num_columns = protein_data.shape\n",
    "print(\"Number of rows:\", num_rows)\n",
    "print(\"Number of columns:\", num_columns)\n",
    "\n",
    "# What do the rows and columns represent?\n",
    "#Rows represent patients and columns represent proteins.\n",
    "\n",
    "num_patients = num_rows\n",
    "print(\"Number of patients:\", num_patients)\n",
    "\n",
    "num_proteins = num_columns\n",
    "print(\"Number of proteins:\", num_proteins)\n"
   ]
  },
  {
   "cell_type": "markdown",
   "id": "6db06758",
   "metadata": {},
   "source": [
    "Remember we can access data by name using `.loc[]` and `.iloc[]`. Since this dataset is really large, we won't really use `.iloc[]` which accesses by index. To get the protein expression information for a specific patient, therefore, we would run something like this: "
   ]
  },
  {
   "cell_type": "code",
   "execution_count": null,
   "id": "5158710b",
   "metadata": {},
   "outputs": [],
   "source": [
    "protein_data.loc[\"patient ID\",\"protein name\"] # this is the general case, you have to fill in actual IDs/protein names"
   ]
  },
  {
   "cell_type": "markdown",
   "id": "0c4e080d",
   "metadata": {},
   "source": [
    "**Exercise 2.3** Remember that the numerical data in CPTAC is the relative fold change, not an absolute value/count. Given this, what kind of number would represent lower relative expression? What kind of number would represent higher relative expression? (Hint: reference level is 0) "
   ]
  },
  {
   "cell_type": "code",
   "execution_count": null,
   "id": "98e77185",
   "metadata": {},
   "outputs": [],
   "source": [
    "## Answer question in comment form here\n",
    "#Negative values indicate lower expression and positive values indicate higher expression."
   ]
  },
  {
   "cell_type": "markdown",
   "id": "ccdaaa65",
   "metadata": {},
   "source": [
    "**Exericse 2.4**\n",
    "\n",
    "Print the relative fold change of 5th patient in the `TP53` protein. Then, interpret this value -- does this patient have higher or lower protein levels than the reference? (Hint: use .loc[] and remember that a `:` can be used in either the row or column slot to access every row or every column.)\n"
   ]
  },
  {
   "cell_type": "code",
   "execution_count": 19,
   "id": "112a5055",
   "metadata": {},
   "outputs": [
    {
     "name": "stdout",
     "output_type": "stream",
     "text": [
      "The 5th patient has higher protein levels of TP53 compared to the reference.\n"
     ]
    }
   ],
   "source": [
    "## write code here\n",
    "fold_change_5th_patient_TP53 = protein_data.loc[\"X01BR009\", \"TP53\"]\n",
    "\n",
    "if fold_change_5th_patient_TP53 < 0:\n",
    "    print(\"The 5th patient has lower protein levels of TP53 compared to the reference.\")\n",
    "elif fold_change_5th_patient_TP53 > 0:\n",
    "    print(\"The 5th patient has higher protein levels of TP53 compared to the reference.\")\n",
    "else:\n",
    "    print(\"The 5th patient has similar protein levels of TP53 compared to the reference.\")\n"
   ]
  },
  {
   "cell_type": "markdown",
   "id": "e66937a6",
   "metadata": {},
   "source": [
    "### Using Boolean indexing\n",
    "\n",
    "In R, we used the `ifelse()` function very heavily to assign categories, such as classifying patients as \"old\" or \"young\". In Python, we have the `where(COND, TRUE_VAL, FALSE_VAL)` function from numpy, which works extremely similarly to ifelse(). That is:\n",
    "\n",
    "   1. The first parameter is the condition (a boolean vector; i.e. Trues and Falses).\n",
    "   2. The second parameter is the value to fill the True conditions.\n",
    "   3. The third parameter is the value to fil lthe False conditions.\n",
    "    \n",
    "The following example (split into the four code blocks below) shows how to apply the `where()` function, in the context of telling if a number is odd or even."
   ]
  },
  {
   "cell_type": "code",
   "execution_count": 20,
   "id": "877c4f62",
   "metadata": {
    "scrolled": true
   },
   "outputs": [
    {
     "data": {
      "text/html": [
       "<div>\n",
       "<style scoped>\n",
       "    .dataframe tbody tr th:only-of-type {\n",
       "        vertical-align: middle;\n",
       "    }\n",
       "\n",
       "    .dataframe tbody tr th {\n",
       "        vertical-align: top;\n",
       "    }\n",
       "\n",
       "    .dataframe thead th {\n",
       "        text-align: right;\n",
       "    }\n",
       "</style>\n",
       "<table border=\"1\" class=\"dataframe\">\n",
       "  <thead>\n",
       "    <tr style=\"text-align: right;\">\n",
       "      <th></th>\n",
       "      <th>nums</th>\n",
       "    </tr>\n",
       "  </thead>\n",
       "  <tbody>\n",
       "    <tr>\n",
       "      <th>0</th>\n",
       "      <td>0</td>\n",
       "    </tr>\n",
       "    <tr>\n",
       "      <th>1</th>\n",
       "      <td>1</td>\n",
       "    </tr>\n",
       "    <tr>\n",
       "      <th>2</th>\n",
       "      <td>2</td>\n",
       "    </tr>\n",
       "    <tr>\n",
       "      <th>3</th>\n",
       "      <td>3</td>\n",
       "    </tr>\n",
       "    <tr>\n",
       "      <th>4</th>\n",
       "      <td>4</td>\n",
       "    </tr>\n",
       "    <tr>\n",
       "      <th>5</th>\n",
       "      <td>5</td>\n",
       "    </tr>\n",
       "  </tbody>\n",
       "</table>\n",
       "</div>"
      ],
      "text/plain": [
       "   nums\n",
       "0     0\n",
       "1     1\n",
       "2     2\n",
       "3     3\n",
       "4     4\n",
       "5     5"
      ]
     },
     "execution_count": 20,
     "metadata": {},
     "output_type": "execute_result"
    }
   ],
   "source": [
    "# first let's create our example array\n",
    "\n",
    "number_example_array = pd.DataFrame({\"nums\": [0, 1, 2, 3, 4, 5]})\n",
    "number_example_array"
   ]
  },
  {
   "cell_type": "code",
   "execution_count": 21,
   "id": "877ea8ef",
   "metadata": {},
   "outputs": [
    {
     "data": {
      "text/html": [
       "<div>\n",
       "<style scoped>\n",
       "    .dataframe tbody tr th:only-of-type {\n",
       "        vertical-align: middle;\n",
       "    }\n",
       "\n",
       "    .dataframe tbody tr th {\n",
       "        vertical-align: top;\n",
       "    }\n",
       "\n",
       "    .dataframe thead th {\n",
       "        text-align: right;\n",
       "    }\n",
       "</style>\n",
       "<table border=\"1\" class=\"dataframe\">\n",
       "  <thead>\n",
       "    <tr style=\"text-align: right;\">\n",
       "      <th></th>\n",
       "      <th>nums</th>\n",
       "    </tr>\n",
       "  </thead>\n",
       "  <tbody>\n",
       "    <tr>\n",
       "      <th>0</th>\n",
       "      <td>False</td>\n",
       "    </tr>\n",
       "    <tr>\n",
       "      <th>1</th>\n",
       "      <td>True</td>\n",
       "    </tr>\n",
       "    <tr>\n",
       "      <th>2</th>\n",
       "      <td>False</td>\n",
       "    </tr>\n",
       "    <tr>\n",
       "      <th>3</th>\n",
       "      <td>True</td>\n",
       "    </tr>\n",
       "    <tr>\n",
       "      <th>4</th>\n",
       "      <td>False</td>\n",
       "    </tr>\n",
       "    <tr>\n",
       "      <th>5</th>\n",
       "      <td>True</td>\n",
       "    </tr>\n",
       "  </tbody>\n",
       "</table>\n",
       "</div>"
      ],
      "text/plain": [
       "    nums\n",
       "0  False\n",
       "1   True\n",
       "2  False\n",
       "3   True\n",
       "4  False\n",
       "5   True"
      ]
     },
     "execution_count": 21,
     "metadata": {},
     "output_type": "execute_result"
    }
   ],
   "source": [
    "# now, let's make a boolean vector where odds will be True, evens will be False\n",
    "boolean_vector = (number_example_array % 2 == 1)\n",
    "boolean_vector"
   ]
  },
  {
   "cell_type": "code",
   "execution_count": 22,
   "id": "11f0d23e",
   "metadata": {},
   "outputs": [
    {
     "data": {
      "text/html": [
       "<div>\n",
       "<style scoped>\n",
       "    .dataframe tbody tr th:only-of-type {\n",
       "        vertical-align: middle;\n",
       "    }\n",
       "\n",
       "    .dataframe tbody tr th {\n",
       "        vertical-align: top;\n",
       "    }\n",
       "\n",
       "    .dataframe thead th {\n",
       "        text-align: right;\n",
       "    }\n",
       "</style>\n",
       "<table border=\"1\" class=\"dataframe\">\n",
       "  <thead>\n",
       "    <tr style=\"text-align: right;\">\n",
       "      <th></th>\n",
       "      <th>nums</th>\n",
       "      <th>boolean_vector</th>\n",
       "    </tr>\n",
       "  </thead>\n",
       "  <tbody>\n",
       "    <tr>\n",
       "      <th>0</th>\n",
       "      <td>0</td>\n",
       "      <td>False</td>\n",
       "    </tr>\n",
       "    <tr>\n",
       "      <th>1</th>\n",
       "      <td>1</td>\n",
       "      <td>True</td>\n",
       "    </tr>\n",
       "    <tr>\n",
       "      <th>2</th>\n",
       "      <td>2</td>\n",
       "      <td>False</td>\n",
       "    </tr>\n",
       "    <tr>\n",
       "      <th>3</th>\n",
       "      <td>3</td>\n",
       "      <td>True</td>\n",
       "    </tr>\n",
       "    <tr>\n",
       "      <th>4</th>\n",
       "      <td>4</td>\n",
       "      <td>False</td>\n",
       "    </tr>\n",
       "    <tr>\n",
       "      <th>5</th>\n",
       "      <td>5</td>\n",
       "      <td>True</td>\n",
       "    </tr>\n",
       "  </tbody>\n",
       "</table>\n",
       "</div>"
      ],
      "text/plain": [
       "   nums  boolean_vector\n",
       "0     0           False\n",
       "1     1            True\n",
       "2     2           False\n",
       "3     3            True\n",
       "4     4           False\n",
       "5     5            True"
      ]
     },
     "execution_count": 22,
     "metadata": {},
     "output_type": "execute_result"
    }
   ],
   "source": [
    "# then add this vector as a column in our array (we could do this and the above in one step)\n",
    "number_example_array[\"boolean_vector\"] = boolean_vector\n",
    "number_example_array"
   ]
  },
  {
   "cell_type": "code",
   "execution_count": 23,
   "id": "e85d10e5",
   "metadata": {},
   "outputs": [
    {
     "data": {
      "text/html": [
       "<div>\n",
       "<style scoped>\n",
       "    .dataframe tbody tr th:only-of-type {\n",
       "        vertical-align: middle;\n",
       "    }\n",
       "\n",
       "    .dataframe tbody tr th {\n",
       "        vertical-align: top;\n",
       "    }\n",
       "\n",
       "    .dataframe thead th {\n",
       "        text-align: right;\n",
       "    }\n",
       "</style>\n",
       "<table border=\"1\" class=\"dataframe\">\n",
       "  <thead>\n",
       "    <tr style=\"text-align: right;\">\n",
       "      <th></th>\n",
       "      <th>nums</th>\n",
       "      <th>boolean_vector</th>\n",
       "      <th>parity</th>\n",
       "    </tr>\n",
       "  </thead>\n",
       "  <tbody>\n",
       "    <tr>\n",
       "      <th>0</th>\n",
       "      <td>0</td>\n",
       "      <td>False</td>\n",
       "      <td>Even</td>\n",
       "    </tr>\n",
       "    <tr>\n",
       "      <th>1</th>\n",
       "      <td>1</td>\n",
       "      <td>True</td>\n",
       "      <td>Odd</td>\n",
       "    </tr>\n",
       "    <tr>\n",
       "      <th>2</th>\n",
       "      <td>2</td>\n",
       "      <td>False</td>\n",
       "      <td>Even</td>\n",
       "    </tr>\n",
       "    <tr>\n",
       "      <th>3</th>\n",
       "      <td>3</td>\n",
       "      <td>True</td>\n",
       "      <td>Odd</td>\n",
       "    </tr>\n",
       "    <tr>\n",
       "      <th>4</th>\n",
       "      <td>4</td>\n",
       "      <td>False</td>\n",
       "      <td>Even</td>\n",
       "    </tr>\n",
       "    <tr>\n",
       "      <th>5</th>\n",
       "      <td>5</td>\n",
       "      <td>True</td>\n",
       "      <td>Odd</td>\n",
       "    </tr>\n",
       "  </tbody>\n",
       "</table>\n",
       "</div>"
      ],
      "text/plain": [
       "   nums  boolean_vector parity\n",
       "0     0           False   Even\n",
       "1     1            True    Odd\n",
       "2     2           False   Even\n",
       "3     3            True    Odd\n",
       "4     4           False   Even\n",
       "5     5            True    Odd"
      ]
     },
     "execution_count": 23,
     "metadata": {},
     "output_type": "execute_result"
    }
   ],
   "source": [
    "# lastly, let's add a third column called \"parity\" that says based off of \"boolean_vector\" if our value is odd/even\n",
    "number_example_array[\"parity\"] = np.where(boolean_vector, \"Odd\", \"Even\")\n",
    "number_example_array"
   ]
  },
  {
   "cell_type": "markdown",
   "id": "3ae3e913",
   "metadata": {},
   "source": [
    "**Exercise 2.5** Access the following:\n",
    "\n",
    "1. Use boolean indexing to access the patient IDs with high (≥1) `TP53` expression. Save this in a pandas DataFrame called `high_TP53`. HINTS:\n",
    "    * Think about if protein expression information will be contained in a row or a column!\n",
    "    * Create a boolean mask with the row/column that contains the expression information of `TP53`.\n",
    "    * Apply the mask to the row/column names that contains the patient IDs.\n",
    "2. How many patients are there in `high_TP53`? Which axis (columns or rows) represents proteins?\n",
    "3. Add a column to `high_TP53` that has the values \"High\"/\"Average\"/\"Low\" based on ARF1 expression.\n",
    "4. How many patients have high expression of both `TP53` and average expression of `ARF1`?"
   ]
  },
  {
   "cell_type": "code",
   "execution_count": 28,
   "id": "d71d7b15",
   "metadata": {},
   "outputs": [
    {
     "name": "stdout",
     "output_type": "stream",
     "text": [
      "Number of patients with high TP53 expression: 11\n",
      "Number of patients with high TP53 expression and average ARF1 expression: 1\n"
     ]
    }
   ],
   "source": [
    "# write code here\n",
    "\n",
    "tp53_high_mask = protein_data[\"TP53\"] >= 1\n",
    "\n",
    "high_TP53 = protein_data.loc[tp53_high_mask].copy()\n",
    "num_patients_high_TP53 = high_TP53.shape[0]\n",
    "print(\"Number of patients with high TP53 expression:\", num_patients_high_TP53)\n",
    "axis_representing_proteins = \"columns\"\n",
    "\n",
    "high_TP53.loc[:, \"ARF1_expression\"] = np.where(high_TP53[\"ARF1\"] >= 1, \"High\", np.where(high_TP53[\"ARF1\"] > 0, \"Average\", \"Low\"))\n",
    "\n",
    "num_patients_high_TP53_average_ARF1 = high_TP53[high_TP53[\"ARF1_expression\"] == \"Average\"].shape[0]\n",
    "print(\"Number of patients with high TP53 expression and average ARF1 expression:\", num_patients_high_TP53_average_ARF1)\n"
   ]
  },
  {
   "cell_type": "markdown",
   "id": "5e91a353",
   "metadata": {},
   "source": [
    "## (3) Additional data in CPTAC\n",
    "\n",
    "You can also access other data using the `cptac` python package for the same patients, using the corresponding get function.\n",
    "\n",
    "**Exercise 3.1** Access the RNA (transcriptomics) and clinical data from the object. The function name is very similar in syntax to the get_proteomics() function from before!"
   ]
  },
  {
   "cell_type": "code",
   "execution_count": 29,
   "id": "26ae7024",
   "metadata": {},
   "outputs": [],
   "source": [
    "rna_data =  brca.get_transcriptomics()\n",
    "clinical_data =  brca.get_clinical()"
   ]
  },
  {
   "cell_type": "markdown",
   "id": "7d217ca6",
   "metadata": {},
   "source": [
    "**Exercise 3.2** Examine these dataframes. In particular:\n",
    "\n",
    "* What do the values in the rna_data data frame represent?\n",
    "* Compare the dimensions of the high_TP53, rna_data, and clinical_data. Are they equal?"
   ]
  },
  {
   "cell_type": "code",
   "execution_count": 33,
   "id": "0ef35657",
   "metadata": {},
   "outputs": [
    {
     "name": "stdout",
     "output_type": "stream",
     "text": [
      "Values in rna_data represent: RNA expression levels\n",
      "Number of patients in dataframes are not equal.\n"
     ]
    }
   ],
   "source": [
    "# explore the data frames using shape, axes, and other functions we've gone over.\n",
    "\n",
    "print(\"Values in rna_data represent:\", \"RNA expression levels\")\n",
    "\n",
    "if high_TP53.shape[0] == rna_data.shape[0] == clinical_data.shape[0]:\n",
    "    print(\"Number of patients in all dataframes are equal.\")\n",
    "else:\n",
    "    print(\"Number of patients in dataframes are not equal.\")\n"
   ]
  },
  {
   "cell_type": "markdown",
   "id": "67f6107d",
   "metadata": {},
   "source": [
    "The dimensions for each dataframe might not be equal depending on if you masked some patients. That's where the `intersect1d()` function from numpy becomes really useful, especially if we want to analyze transcriptomics, proteomics, and clinical data together. This lets us see which patient barcodes are shared between the data frames.\n",
    "\n",
    "\n",
    "Let's take a look at all of the patients who are older than 50 years old at the time of diagnosis. \n",
    "<br></br>\n",
    "**Exercise 3.3**\n",
    "1.  Use the clinical data DataFrame to create a boolean mask for the condition of patients being older than 50.\n",
    "2.  Mask the clinical data and assign it to a DataFrame called 'masked_clinical'."
   ]
  },
  {
   "cell_type": "code",
   "execution_count": 38,
   "id": "27343c31",
   "metadata": {},
   "outputs": [
    {
     "name": "stdout",
     "output_type": "stream",
     "text": [
      "Index(['Replicate_Measurement_IDs', 'Sample_Tumor_Normal', 'TMT.Plex',\n",
      "       'TMT.Channel', 'Stage', 'Ischemia.Time.in.Minutes', 'PAM50',\n",
      "       'NMF.Cluster', 'NMF.Cluster.Membership.Score', 'Age.in.Month', 'Gender',\n",
      "       'Ethnicity', 'ER.Updated.Clinical.Status', 'PR.Clinical.Status',\n",
      "       'ERBB2.Updated.Clinical.Status', 'TNBC.Updated.Clinical.Status',\n",
      "       'ERBB2.Proteogenomic.Status', 'TOP2A.Proteogenomic.Status'],\n",
      "      dtype='object', name='Name')\n",
      "Name       Replicate_Measurement_IDs Sample_Tumor_Normal TMT.Plex TMT.Channel  \\\n",
      "Patient_ID                                                                      \n",
      "X01BR001                    X01BR001               Tumor        2        129N   \n",
      "X01BR015                    X01BR015               Tumor        2        128N   \n",
      "X01BR017                    X01BR017               Tumor        1        130C   \n",
      "X01BR018                    X01BR018               Tumor        7        129N   \n",
      "X01BR025                    X01BR025               Tumor        9        127N   \n",
      "\n",
      "Name             Stage  Ischemia.Time.in.Minutes  PAM50 NMF.Cluster  \\\n",
      "Patient_ID                                                            \n",
      "X01BR001     Stage IIB                       0.0  Basal     Basal-I   \n",
      "X01BR015     Stage IIB                       1.0   LumA      LumA-I   \n",
      "X01BR017     Stage III                       0.0   Her2     Basal-I   \n",
      "X01BR018    Stage IIIA                       1.0  Basal     Basal-I   \n",
      "X01BR025    Stage IIIA                       6.0   LumA      LumB-I   \n",
      "\n",
      "Name        NMF.Cluster.Membership.Score  Age.in.Month  Gender  \\\n",
      "Patient_ID                                                       \n",
      "X01BR001                           0.782         660.0  female   \n",
      "X01BR015                           0.550         420.0  female   \n",
      "X01BR017                           0.508         540.0  female   \n",
      "X01BR018                           0.915         792.0  female   \n",
      "X01BR025                           0.551         744.0  female   \n",
      "\n",
      "Name                        Ethnicity ER.Updated.Clinical.Status  \\\n",
      "Patient_ID                                                         \n",
      "X01BR001    black.or.african.american                   negative   \n",
      "X01BR015                        white                   positive   \n",
      "X01BR017                        white                   negative   \n",
      "X01BR018                        white                   positive   \n",
      "X01BR025    black.or.african.american                   positive   \n",
      "\n",
      "Name       PR.Clinical.Status ERBB2.Updated.Clinical.Status  \\\n",
      "Patient_ID                                                    \n",
      "X01BR001             negative                      negative   \n",
      "X01BR015             positive                      negative   \n",
      "X01BR017             negative                      positive   \n",
      "X01BR018             negative                      negative   \n",
      "X01BR025             positive                     equivocal   \n",
      "\n",
      "Name       TNBC.Updated.Clinical.Status ERBB2.Proteogenomic.Status  \\\n",
      "Patient_ID                                                           \n",
      "X01BR001                       positive                   negative   \n",
      "X01BR015                       negative                   negative   \n",
      "X01BR017                       negative                   positive   \n",
      "X01BR018                       negative                   negative   \n",
      "X01BR025                       negative                   negative   \n",
      "\n",
      "Name       TOP2A.Proteogenomic.Status  \n",
      "Patient_ID                             \n",
      "X01BR001                     negative  \n",
      "X01BR015                     negative  \n",
      "X01BR017                     negative  \n",
      "X01BR018                     negative  \n",
      "X01BR025                     negative  \n"
     ]
    }
   ],
   "source": [
    "# \n",
    "import numpy as np\n",
    "\n",
    "print(clinical_data.columns)\n",
    "\n",
    "age_mask = clinical_data['Age.in.Month'] > 50\n",
    "masked_clinical = clinical_data.loc[age_mask].copy()\n",
    "\n",
    "print(masked_clinical.head())\n",
    "\n"
   ]
  },
  {
   "cell_type": "markdown",
   "id": "d356f73c",
   "metadata": {},
   "source": [
    "Now that we have masked our data, if we tried to do an analysis using the different data frames, we would get a lot of errors since we are now missing some patients in our masked_clinical data frame. If we want to get the patients who are present in the masked data as well as the rna_data and protein_data, we can use intersect1d().\n",
    "\n",
    "**Exercise 3.4**\n",
    "1. Use `intersect1d()` from np to create a list that contains the patient IDs for each pair of data frames as mentioned below. (Hint: this function takes two 1d arrays, which would be patient IDs from two different dataframes. How do we get this from each dataframe? Are patient IDs rows or columns?) \n",
    "2. Use a for loop to print the lengths of these three data frames, and compare them to the number of rows. The for loop skeleton is below. What do you notice about the three lengths? Do the numbers correspond to anything in particular?\n",
    "3. Finally, identify which intersection contains the patient IDs where there is data for all three levels of data (proteomics, transcriptomics, and clinical). How can we tell?"
   ]
  },
  {
   "cell_type": "code",
   "execution_count": 41,
   "id": "6daf99fa",
   "metadata": {},
   "outputs": [
    {
     "name": "stdout",
     "output_type": "stream",
     "text": [
      "The length of intersection 1 is 122\n",
      "The length of intersection 2 is 105\n",
      "The length of intersection 3 is 105\n"
     ]
    }
   ],
   "source": [
    "# 1.\n",
    "name_intersects = [\n",
    "     # 0. fill in intersecting for protein/rna here using intersect1d()\n",
    "     # 1. fill in intersecting for protein/masked clinical here\n",
    "     # 2. fill in the intersecting for rna/masked clinical here\n",
    "     np.intersect1d(protein_data.index, rna_data.index),           \n",
    "    np.intersect1d(protein_data.index, masked_clinical.index),  \n",
    "    np.intersect1d(rna_data.index, masked_clinical.index)    \n",
    "]\n",
    "\n",
    "# 2. Print the lengths here\n",
    "# write a for loop here\n",
    "for i, intersect in enumerate(name_intersects):\n",
    "    print(f\"The length of intersection {i+1} is {len(intersect)}\")\n",
    "  #  print(f\"The length of ____ is _____\")  # fill in here\n",
    "    \n",
    "# 3. Which comparison(s) contain the patient names that have all three levels?\n",
    "for i, intersection in enumerate(name_intersects):\n",
    "    if len(intersection) == len(high_TP53) and len(intersection) == len(rna_data) and len(intersection) == len(masked_clinical):\n",
    "        print(f\"Intersection {i+1} contains patient IDs with data for all three levels.\")"
   ]
  },
  {
   "cell_type": "code",
   "execution_count": null,
   "id": "98efc688-e772-4735-bb73-b4163a4cd4cc",
   "metadata": {},
   "outputs": [],
   "source": []
  },
  {
   "cell_type": "markdown",
   "id": "f34fa008",
   "metadata": {},
   "source": [
    "## (4) Examining the Clinical Data"
   ]
  },
  {
   "cell_type": "markdown",
   "id": "1c16ae96",
   "metadata": {},
   "source": [
    "Let's explore the clinical data in more detail.\n",
    "\n",
    "First, use head() to glance as to what data is available."
   ]
  },
  {
   "cell_type": "code",
   "execution_count": 42,
   "id": "60fe1771",
   "metadata": {},
   "outputs": [
    {
     "name": "stdout",
     "output_type": "stream",
     "text": [
      "Name       Replicate_Measurement_IDs Sample_Tumor_Normal TMT.Plex TMT.Channel  \\\n",
      "Patient_ID                                                                      \n",
      "CPT000814                  CPT000814               Tumor       13        127C   \n",
      "CPT001846                  CPT001846               Tumor       12        128C   \n",
      "X01BR001                    X01BR001               Tumor        2        129N   \n",
      "X01BR008                    X01BR008               Tumor       16        127C   \n",
      "X01BR009                    X01BR009               Tumor       16        127N   \n",
      "\n",
      "Name            Stage  Ischemia.Time.in.Minutes  PAM50 NMF.Cluster  \\\n",
      "Patient_ID                                                           \n",
      "CPT000814   Stage IIA                       NaN  Basal     Basal-I   \n",
      "CPT001846   Stage III                       NaN  Basal     Basal-I   \n",
      "X01BR001    Stage IIB                       0.0  Basal     Basal-I   \n",
      "X01BR008          NaN                       NaN  Basal     Basal-I   \n",
      "X01BR009          NaN                       NaN  Basal     Basal-I   \n",
      "\n",
      "Name        NMF.Cluster.Membership.Score  Age.in.Month  Gender  \\\n",
      "Patient_ID                                                       \n",
      "CPT000814                          1.000           NaN     NaN   \n",
      "CPT001846                          0.672           NaN     NaN   \n",
      "X01BR001                           0.782         660.0  female   \n",
      "X01BR008                           0.958           NaN     NaN   \n",
      "X01BR009                           0.825           NaN     NaN   \n",
      "\n",
      "Name                        Ethnicity ER.Updated.Clinical.Status  \\\n",
      "Patient_ID                                                         \n",
      "CPT000814   black.or.african.american                   negative   \n",
      "CPT001846                       white                   negative   \n",
      "X01BR001    black.or.african.american                   negative   \n",
      "X01BR008                          NaN                        NaN   \n",
      "X01BR009                          NaN                   negative   \n",
      "\n",
      "Name       PR.Clinical.Status ERBB2.Updated.Clinical.Status  \\\n",
      "Patient_ID                                                    \n",
      "CPT000814            negative                           NaN   \n",
      "CPT001846            negative                           NaN   \n",
      "X01BR001             negative                      negative   \n",
      "X01BR008                  NaN                           NaN   \n",
      "X01BR009             negative                           NaN   \n",
      "\n",
      "Name       TNBC.Updated.Clinical.Status ERBB2.Proteogenomic.Status  \\\n",
      "Patient_ID                                                           \n",
      "CPT000814                      positive                   negative   \n",
      "CPT001846                      positive                   negative   \n",
      "X01BR001                       positive                   negative   \n",
      "X01BR008                            NaN                   negative   \n",
      "X01BR009                       positive                   negative   \n",
      "\n",
      "Name       TOP2A.Proteogenomic.Status  \n",
      "Patient_ID                             \n",
      "CPT000814                    negative  \n",
      "CPT001846                    negative  \n",
      "X01BR001                     negative  \n",
      "X01BR008                     negative  \n",
      "X01BR009                     negative  \n"
     ]
    }
   ],
   "source": [
    "# write code here\n",
    "clinical_data_head = clinical_data.head()\n",
    "print(clinical_data_head)"
   ]
  },
  {
   "cell_type": "markdown",
   "id": "77030e93",
   "metadata": {},
   "source": [
    "**Exercise 4.1** You might notice that the Age column values don't look like years -- they're in months. Create a new column called \"Age\" with the \"Age.in.Month\" values / 12. Then, use head() again to make sure the ages were converted."
   ]
  },
  {
   "cell_type": "code",
   "execution_count": 43,
   "id": "e2b7a6d2",
   "metadata": {},
   "outputs": [
    {
     "name": "stdout",
     "output_type": "stream",
     "text": [
      "Name       Replicate_Measurement_IDs Sample_Tumor_Normal TMT.Plex TMT.Channel  \\\n",
      "Patient_ID                                                                      \n",
      "CPT000814                  CPT000814               Tumor       13        127C   \n",
      "CPT001846                  CPT001846               Tumor       12        128C   \n",
      "X01BR001                    X01BR001               Tumor        2        129N   \n",
      "X01BR008                    X01BR008               Tumor       16        127C   \n",
      "X01BR009                    X01BR009               Tumor       16        127N   \n",
      "\n",
      "Name            Stage  Ischemia.Time.in.Minutes  PAM50 NMF.Cluster  \\\n",
      "Patient_ID                                                           \n",
      "CPT000814   Stage IIA                       NaN  Basal     Basal-I   \n",
      "CPT001846   Stage III                       NaN  Basal     Basal-I   \n",
      "X01BR001    Stage IIB                       0.0  Basal     Basal-I   \n",
      "X01BR008          NaN                       NaN  Basal     Basal-I   \n",
      "X01BR009          NaN                       NaN  Basal     Basal-I   \n",
      "\n",
      "Name        NMF.Cluster.Membership.Score  Age.in.Month  Gender  \\\n",
      "Patient_ID                                                       \n",
      "CPT000814                          1.000           NaN     NaN   \n",
      "CPT001846                          0.672           NaN     NaN   \n",
      "X01BR001                           0.782         660.0  female   \n",
      "X01BR008                           0.958           NaN     NaN   \n",
      "X01BR009                           0.825           NaN     NaN   \n",
      "\n",
      "Name                        Ethnicity ER.Updated.Clinical.Status  \\\n",
      "Patient_ID                                                         \n",
      "CPT000814   black.or.african.american                   negative   \n",
      "CPT001846                       white                   negative   \n",
      "X01BR001    black.or.african.american                   negative   \n",
      "X01BR008                          NaN                        NaN   \n",
      "X01BR009                          NaN                   negative   \n",
      "\n",
      "Name       PR.Clinical.Status ERBB2.Updated.Clinical.Status  \\\n",
      "Patient_ID                                                    \n",
      "CPT000814            negative                           NaN   \n",
      "CPT001846            negative                           NaN   \n",
      "X01BR001             negative                      negative   \n",
      "X01BR008                  NaN                           NaN   \n",
      "X01BR009             negative                           NaN   \n",
      "\n",
      "Name       TNBC.Updated.Clinical.Status ERBB2.Proteogenomic.Status  \\\n",
      "Patient_ID                                                           \n",
      "CPT000814                      positive                   negative   \n",
      "CPT001846                      positive                   negative   \n",
      "X01BR001                       positive                   negative   \n",
      "X01BR008                            NaN                   negative   \n",
      "X01BR009                       positive                   negative   \n",
      "\n",
      "Name       TOP2A.Proteogenomic.Status   Age  \n",
      "Patient_ID                                   \n",
      "CPT000814                    negative   NaN  \n",
      "CPT001846                    negative   NaN  \n",
      "X01BR001                     negative  55.0  \n",
      "X01BR008                     negative   NaN  \n",
      "X01BR009                     negative   NaN  \n"
     ]
    }
   ],
   "source": [
    "# convert ages here!\n",
    "clinical_data['Age'] = clinical_data['Age.in.Month'] / 12\n",
    "print(clinical_data.head())\n"
   ]
  },
  {
   "cell_type": "markdown",
   "id": "a7e704a4",
   "metadata": {},
   "source": [
    "There may be control (non-cancer) tissue samples in some datasets. Let's determine whether we need to account for this in our dataset this using the unique() function from numpy.\n",
    "\n",
    "__Exercise 4.2__ Call the unique() function on the Sample_Tumor_Normal column. The function will return the unique values in the column in a sorted order -- this is super useful for examining categorical variables, like tumor stage and tumor status, for example."
   ]
  },
  {
   "cell_type": "code",
   "execution_count": 45,
   "id": "5b56fa09",
   "metadata": {},
   "outputs": [
    {
     "name": "stdout",
     "output_type": "stream",
     "text": [
      "Unique levels of the Sample_Tumor_Normal column: ['Tumor']\n"
     ]
    }
   ],
   "source": [
    "# Get the levels of the Sample_Tumor_Normal column with unique()\n",
    "\n",
    "sample_tumor_normal_levels = np.unique(clinical_data['Sample_Tumor_Normal'])\n",
    "print(\"Unique levels of the Sample_Tumor_Normal column:\", sample_tumor_normal_levels)"
   ]
  },
  {
   "cell_type": "markdown",
   "id": "5b1338d1",
   "metadata": {},
   "source": [
    "__Exercise 4.3__ Let's examine how tumor stage varies as a function of age:\n",
    "\n",
    "   1. Import the plotting libraries matplotlib.pyplot and seaborn (use the standard abbreviations presented last time, seaborn is sns).\n",
    "   2. Create an age_category column in clinical_data. Define \"Young\" as under the median age, and \"Old\" as the median age and older. (Hint: use the where() function from numpy, the equivalent to ifelse()).\n",
    "   3. The \"Stage\" information for soome of these patients is NaN (the pandas version of NA). Use the isna() function from pandas and boolean indexing (i.e. where() from numpy again) to remove any patients with NaN values in \"Stage\".\n",
    "   4. Using nested for loop and boolean indexing, count the number of old and young patients that have Stage I, Stage II, Stage III, and Stage IV cancer.\n",
    "   5. Use the skeleton code to draw the barplot. Do your numbers make sense?"
   ]
  },
  {
   "cell_type": "code",
   "execution_count": 49,
   "id": "3d9b0202",
   "metadata": {},
   "outputs": [
    {
     "name": "stdout",
     "output_type": "stream",
     "text": [
      "Old\n",
      "Number of Old patients with Stage IA cancer: 2\n",
      "Number of Old patients with Stage IIA cancer: 26\n",
      "Number of Old patients with Stage IIB cancer: 6\n",
      "Number of Old patients with Stage III cancer: 1\n",
      "Number of Old patients with Stage IIIA cancer: 14\n",
      "Number of Old patients with Stage IIIB cancer: 2\n",
      "Number of Old patients with Stage IIIC cancer: 2\n",
      "Young\n",
      "Number of Young patients with Stage IA cancer: 2\n",
      "Number of Young patients with Stage IIA cancer: 24\n",
      "Number of Young patients with Stage IIB cancer: 14\n",
      "Number of Young patients with Stage III cancer: 3\n",
      "Number of Young patients with Stage IIIA cancer: 8\n",
      "Number of Young patients with Stage IIIB cancer: 1\n",
      "Number of Young patients with Stage IIIC cancer: 2\n"
     ]
    },
    {
     "data": {
      "image/png": "[encoded data removed]",
      "text/plain": [
       "<Figure size 640x480 with 1 Axes>"
      ]
     },
     "metadata": {},
     "output_type": "display_data"
    }
   ],
   "source": [
    "# 1. Import libraries\n",
    "import matplotlib.pyplot as plt\n",
    "import seaborn as sns\n",
    "\n",
    "# 2. Create the age_category column in clinical_data\n",
    "median_age = clinical_data['Age'].median()\n",
    "clinical_data['age_category'] = np.where(clinical_data['Age'] >= median_age, 'Old', 'Young')\n",
    "\n",
    "# 3. Filter out NaN values in \"Stage\"\n",
    "clinical_data_filtered = clinical_data[~clinical_data['Stage'].isna()]\n",
    "\n",
    "## this will programatically get all the stages in order\n",
    "stage_categories = np.unique(clinical_data_filtered['Stage'].astype(str)) # Convert to string\n",
    "assert(np.all(stage_categories == ['Stage IA', 'Stage IIA', 'Stage IIB',\n",
    "                                    'Stage III', 'Stage IIIA', 'Stage IIIB', 'Stage IIIC']))\n",
    "\n",
    "# 4. Loop through all the stage categories and count\n",
    "for age_cat in [\"Old\", \"Young\"]:\n",
    "    print(age_cat)\n",
    "    for stage_cat in stage_categories:\n",
    "        # 1. create a subset of the data frame with the old/young patients\n",
    "        age_stage_data = clinical_data_filtered[(clinical_data_filtered['age_category'] == age_cat) & \n",
    "                                                (clinical_data_filtered['Stage'] == stage_cat)]\n",
    "        # 2. count the number of patients with the stage of cancer and print\n",
    "        num_patients = age_stage_data.shape[0]\n",
    "        print(f\"Number of {age_cat} patients with {stage_cat} cancer: {num_patients}\")\n",
    "\n",
    "# 5. Create a barplot to compare your results\n",
    "sns.countplot(\n",
    "    x=\"age_category\",\n",
    "    hue=\"Stage\",\n",
    "    hue_order=stage_categories,\n",
    "    data=clinical_data_filtered\n",
    ")\n",
    "\n",
    "plt.show()\n"
   ]
  },
  {
   "cell_type": "markdown",
   "id": "c5b41b9e",
   "metadata": {},
   "source": [
    "## (5) Plotting Proteomic Data"
   ]
  },
  {
   "cell_type": "markdown",
   "id": "456a052b",
   "metadata": {},
   "source": [
    "Let's explore how the proteomic expression of a gene differs between young and old patients.\n",
    "\n",
    "**Exercise 5.1** Plot the expression data of a chosen protein stratified between patients older and younger than the median age."
   ]
  },
  {
   "cell_type": "code",
   "execution_count": 51,
   "id": "73359e8c",
   "metadata": {},
   "outputs": [
    {
     "data": {
      "text/plain": [
       "[array([], shape=(0, 10107), dtype=float64),\n",
       " array([], shape=(0, 10107), dtype=float64)]"
      ]
     },
     "execution_count": 51,
     "metadata": {},
     "output_type": "execute_result"
    }
   ],
   "source": [
    "young_mask = clinical_data['age_category'] == 'Young' # look at the columns of the clinical data to see what column to get age information\n",
    "old_mask = clinical_data['age_category'] == 'Old'\n",
    "\n",
    "young = (protein_data.loc[old_mask]).dropna()\n",
    "old = (protein_data.loc[young_mask]).dropna()\n",
    "\n",
    "data = [old.values, young.values] # our boxplot function will require an array (or an array of arrays)\n",
    "data"
   ]
  },
  {
   "cell_type": "code",
   "execution_count": 55,
   "id": "01ad52bc",
   "metadata": {},
   "outputs": [
    {
     "data": {
      "image/png": "[encoded data removed]",
      "text/plain": [
       "<Figure size 640x480 with 1 Axes>"
      ]
     },
     "metadata": {},
     "output_type": "display_data"
    }
   ],
   "source": [
    "fig, ax = plt.subplots()\n",
    "\n",
    "plt.axhline(y=0, color='blue', linestyle='-')\n",
    "plt.axhline(y=-1, color='blue', linestyle=':')\n",
    "plt.axhline(y=1, color='blue', linestyle=':')\n",
    "\n",
    "combined_data = [old.values.flatten(), young.values.flatten()] # Combine the protein data for young and old patients into a single array\n",
    "\n",
    "bp = ax.boxplot(combined_data)\n",
    "\n",
    "plt.xticks([1, 2], [\"Old\", \"Young\"]) \n",
    "\n",
    "plt.show()\n"
   ]
  },
  {
   "cell_type": "markdown",
   "id": "25e3f44f",
   "metadata": {},
   "source": [
    "**Exercise 5.2** Why do you think we added lines at -1, 0, and 1? What do these values represent in terms of log2FoldChange?"
   ]
  },
  {
   "cell_type": "code",
   "execution_count": null,
   "id": "73715440",
   "metadata": {},
   "outputs": [],
   "source": [
    "# answer in a comment here\n",
    "# -1 represents a decrease in expression by a factor of 2 (or a 2-fold decrease).\n",
    "# 0 represents no change in expression.\n",
    "# 1 represents an increase in expression by a factor of 2 (or a 2-fold increase)."
   ]
  },
  {
   "cell_type": "markdown",
   "id": "fa7c2940",
   "metadata": {},
   "source": [
    "## (6) SciPy\n",
    "Another question to ask is if the levels of RNA expression correlate with protein expression. While we would expect for there to be a 1:1 relationship between RNA and protein (according to the central dogma), as you will see, this is not what we oftentimes observe."
   ]
  },
  {
   "cell_type": "code",
   "execution_count": 56,
   "id": "f5be4586",
   "metadata": {},
   "outputs": [],
   "source": [
    "from scipy import stats # we are using the stats package in particular"
   ]
  },
  {
   "cell_type": "markdown",
   "id": "6d033105",
   "metadata": {},
   "source": [
    "The first thing we need to do is to identify which patients and genes are shared between the transcriptomic and proteomic data sets.\n",
    "\n",
    "For some cancer, patients doesn't have clinical or transcriptomic data in CPTAC. We need to use intersect1d() to fix this. We also need to use intersect1d() to determine which genes are shared.\n",
    "\n",
    "**Exercise 6.1** To make sure the data frames match:\n",
    "\n",
    "1. Identify patients that are shared between transcriptomic and proteomics data (hint: use intersect1d()). \n",
    "2. Identify the names of the genes that are shared between the two datasets (hint: use intersect1d()). Is this data the row or column names?\n",
    "3. Create the rna_shared and prot_shared data frames; ie dataframes with only genes and patients that are shared between rna and protein data. (Hint: how can we access rows/columns by name?)."
   ]
  },
  {
   "cell_type": "code",
   "execution_count": 57,
   "id": "a5cf7b19",
   "metadata": {},
   "outputs": [],
   "source": [
    "# 1. Identify the patients shared between RNA and protein data.\n",
    "shared_patients_prot = np.intersect1d(rna_data.index, protein_data.index)\n",
    "\n",
    "# 2. Identify the genes (RNA, protein) shared between the two data sets \n",
    "shared_rna_prot = np.intersect1d(rna_data.columns, protein_data.columns)\n",
    "\n",
    "# 3. Create the two data frames\n",
    "rna_shared = rna_data.loc[shared_patients_prot, shared_rna_prot]\n",
    "prot_shared = protein_data.loc[shared_patients_prot, shared_rna_prot]"
   ]
  },
  {
   "cell_type": "markdown",
   "id": "7a365ac5",
   "metadata": {},
   "source": [
    "Now, we can see how correlated the RNA and protein levels are. We'll use Spearman correlation from the stats library, which is spearmanr().\n",
    "\n",
    "**Exercise 6.2** Choose a gene and get the Spearman correlation of the rna to protein of that gene."
   ]
  },
  {
   "cell_type": "code",
   "execution_count": 59,
   "id": "ffc0f52b",
   "metadata": {},
   "outputs": [
    {
     "name": "stdout",
     "output_type": "stream",
     "text": [
      "The correlation of TP53 is 0.389 (p = 9.5868e-06).\n"
     ]
    }
   ],
   "source": [
    "# we need the nan_policy=\"omit\" to throw out NaN values\n",
    "\n",
    "gene_name = \"TP53\"\n",
    "\n",
    "\\\n",
    "corr, pval = stats.spearmanr(rna_shared[gene_name], prot_shared[gene_name], nan_policy=\"omit\")\n",
    "\n",
    "print(f\"The correlation of {gene_name} is {round(corr, 3)} (p = {round(pval, 10)}).\")"
   ]
  },
  {
   "cell_type": "markdown",
   "id": "21464da2",
   "metadata": {},
   "source": [
    "**Exercise 6.3** What is your gene's Spearman correlation? What does that mean mathematically? What could this represent biologically? Look into the literature to see if it corroborates this idea."
   ]
  },
  {
   "cell_type": "code",
   "execution_count": null,
   "id": "f424914b",
   "metadata": {},
   "outputs": [],
   "source": [
    "# answer in a comment here\n",
    "\n",
    "#The Spearman correlation coefficient for (TP53) is 0.389. \n",
    "#This value indicates a positive correlation between the RNA expression levels and the protein expression levels of TP53 across the shared patient samples."
   ]
  },
  {
   "cell_type": "markdown",
   "id": "d123f959",
   "metadata": {},
   "source": [
    "## (7) Heatmaps\n",
    "**Exercise 7.1** A problem arises if we want to compare many correlations. Heatmaps are useful for visualizing a large number of comparisons. To make a heatmap, we'll use the heatmap() function from seaborn. Let's do the following:\n",
    "\n",
    "1. Set up our data frame to hold all comparisons. All you need to do is to access the first 20 gene names.\n",
    "2. Calculate the correlations for the first 20 genes (just to save time). You'll need to use two for loops.\n",
    "3. Call heatmap() -- this is filled in for you!\n",
    "4. Interpret the data. There is a \"light\" diagonal along the heatmap from the top-left to bottom-right. Is this expected? Why or why not?"
   ]
  },
  {
   "cell_type": "code",
   "execution_count": 60,
   "id": "79e1b2a0",
   "metadata": {},
   "outputs": [],
   "source": [
    "# import seaborn as sns\n",
    "import seaborn as sns\n"
   ]
  },
  {
   "cell_type": "code",
   "execution_count": 63,
   "id": "5149313c",
   "metadata": {},
   "outputs": [
    {
     "data": {
      "image/png": "[encoded data removed]",
      "text/plain": [
       "<Figure size 640x480 with 2 Axes>"
      ]
     },
     "metadata": {},
     "output_type": "display_data"
    }
   ],
   "source": [
    "ncomparisons = 20\n",
    "gene_names = rna_shared.columns[:ncomparisons]  # Get the first 20 gene names\n",
    "\n",
    "# Create an empty DataFrame to hold correlation values\n",
    "corr_df = pd.DataFrame(np.ndarray(shape=(ncomparisons, ncomparisons), dtype=np.float16),\n",
    "                      index = gene_names,\n",
    "                      columns = gene_names)\n",
    "\n",
    "# Calculate correlations for the first 20 genes\n",
    "for g1 in gene_names:\n",
    "    for g2 in gene_names:\n",
    "        # Calculate the correlations between protein and RNA\n",
    "        corr, _ = stats.spearmanr(rna_shared[g1], prot_shared[g2], nan_policy=\"omit\")\n",
    "        # Store the correlation in corr_df\n",
    "        corr_df.loc[g1, g2] = np.float16(corr)\n",
    "\n",
    "# Create the heatmap\n",
    "plot = sns.heatmap(\n",
    "    corr_df,\n",
    "    cmap='mako',\n",
    ")\n",
    "plot.set_xlabel('Protein', fontsize=10)\n",
    "plot.set_ylabel('RNA', fontsize=10)\n",
    "plt.show()\n",
    "\n",
    "\n",
    "# 4. interpret!"
   ]
  },
  {
   "cell_type": "markdown",
   "id": "127284e2",
   "metadata": {},
   "source": [
    "## (8) More with Seaborn\n",
    "seaborn is a nice package which works well with matplotlib and makes prettier plots with more control over the figure.\n",
    "\n",
    "Here's how you make a scatter plot with seaborn, for example:"
   ]
  },
  {
   "cell_type": "code",
   "execution_count": null,
   "id": "e7d72523",
   "metadata": {},
   "outputs": [],
   "source": [
    "fig, ax = plt.subplots()\n",
    "\n",
    "sns.scatterplot( # x-axis\n",
    "    x = clinical_data.loc[:, \"Age.in.Month\"],\n",
    "    y = protein_data.loc[:, \"DYNLT3\"],# y-axis\n",
    "    legend = \"full\",  # show the legend\n",
    "    ax = ax  # necessary for when plotting more than 1 subplot\n",
    ")\n",
    "\n",
    "fig.suptitle('Age vs. DYNLT3')  # set title\n",
    "\n",
    "plt.show()"
   ]
  },
  {
   "cell_type": "markdown",
   "id": "2b2a98a7",
   "metadata": {},
   "source": [
    "**Exercise 8.1** Update the above plot to:\n",
    "\n",
    "1. Have age in years instead of months.\n",
    "2. Color patients based on gender (or another clinical variable of your choosing)\n",
    "3. Have a side-by-side second plot with a different protein of your choosing"
   ]
  },
  {
   "cell_type": "code",
   "execution_count": 66,
   "id": "0a02927d",
   "metadata": {},
   "outputs": [
    {
     "data": {
      "image/png": "[encoded data removed]",
      "text/plain": [
       "<Figure size 1200x600 with 2 Axes>"
      ]
     },
     "metadata": {},
     "output_type": "display_data"
    }
   ],
   "source": [
    "# create plot here\n",
    "\n",
    "fig, (ax1, ax2) = plt.subplots(1, 2, figsize=(12, 6))  \n",
    "\n",
    "sns.scatterplot(\n",
    "    x=clinical_data.loc[:, \"Age.in.Month\"] / 12, \n",
    "    y=protein_data.loc[:, \"DYNLT3\"],\n",
    "    hue=clinical_data.loc[:, \"Gender\"], \n",
    "    palette=\"Set1\",\n",
    "    legend=\"full\",\n",
    "    ax=ax1 \n",
    ")\n",
    "ax1.set_title('Age vs. DYNLT3')  \n",
    "\n",
    "sns.scatterplot(\n",
    "    x=clinical_data.loc[:, \"Age.in.Month\"] / 12, \n",
    "    y=protein_data.loc[:, \"DYNLT3\"],  \n",
    "    hue=clinical_data.loc[:, \"Gender\"],  \n",
    "    palette=\"Set1\",  \n",
    "    legend=\"full\",\n",
    "    ax=ax2 \n",
    ")\n",
    "ax2.set_title('Age vs. DYNLT3')  \n",
    "\n",
    "plt.tight_layout()\n",
    "\n",
    "plt.show()\n",
    "\n"
   ]
  },
  {
   "cell_type": "markdown",
   "id": "392e7cd4",
   "metadata": {},
   "source": [
    "## (9) Saving Plots\n",
    "Remember, to save a plot, we can call plt.savefig() instead of the plt.show()."
   ]
  },
  {
   "cell_type": "code",
   "execution_count": 67,
   "id": "d83d3ddc",
   "metadata": {},
   "outputs": [
    {
     "data": {
      "image/png": "[encoded data removed]",
      "text/plain": [
       "<Figure size 640x480 with 1 Axes>"
      ]
     },
     "metadata": {},
     "output_type": "display_data"
    }
   ],
   "source": [
    "fig, ax = plt.subplots()\n",
    "\n",
    "sns.scatterplot( # x-axis\n",
    "    x = clinical_data.loc[:, \"Age.in.Month\"],\n",
    "    y = protein_data.loc[:, \"DYNLT3\"],# y-axis\n",
    "    legend = \"full\",  # show the legend\n",
    "    ax = ax  # necessary for when plotting more than 1 subplot\n",
    ")\n",
    "\n",
    "fig.suptitle('Age vs. DYNLT3')  # set title\n",
    "\n",
    "# age_scatter.png is a relative path so check your working directory before running it\n",
    "plt.savefig('age_scatter.png', bbox_inches='tight')"
   ]
  },
  {
   "cell_type": "markdown",
   "id": "bb00966a",
   "metadata": {},
   "source": [
    "# Exercises\n",
    "Only this section will be graded!\n",
    "## 1. Drawing Connections\n",
    "1. Choose a clinical variable and segment the cohort into two groups. \n",
    "2. Find out what the 5 most differentially expressed genes are (we aren't going to do this in a sophisticated way like DESeq, instead just take the mean expression of every single gene within a group and find the gene which has the greatest difference in mean between the two groups)\n",
    "3. Create two scatter plots, side by side, each with one group. Within the scatter plots, plot RNA expression versus protein expression for each of the genes in a different color.\n",
    "4. Add appropriate legend, title, and labels."
   ]
  },
  {
   "cell_type": "code",
   "execution_count": 107,
   "id": "c9b9c9ca",
   "metadata": {},
   "outputs": [
    {
     "name": "stderr",
     "output_type": "stream",
     "text": [
      "No artists with labels found to put in legend.  Note that artists whose label start with an underscore are ignored when legend() is called with no argument.\n"
     ]
    },
    {
     "data": {
      "image/png": "[encoded data removed]",
      "text/plain": [
       "<Figure size 1400x600 with 2 Axes>"
      ]
     },
     "metadata": {},
     "output_type": "display_data"
    }
   ],
   "source": [
    "# answer questions here\n",
    "\n",
    "import pandas as pd\n",
    "import numpy as np\n",
    "import matplotlib.pyplot as plt\n",
    "import seaborn as sns\n",
    "\n",
    "tumor_patients = clinical_data[clinical_data['Sample_Tumor_Normal'] == 'Tumor'].index\n",
    "normal_patients = clinical_data[clinical_data['Sample_Tumor_Normal'] == 'Normal'].index\n",
    "\n",
    "mean_expr_tumor = rna_data.loc[tumor_patients].mean()\n",
    "mean_expr_normal = rna_data.loc[normal_patients].mean()\n",
    "\n",
    "diff_expr = (mean_expr_tumor - mean_expr_normal).abs()\n",
    "\n",
    "top_5_genes = diff_expr.nlargest(5).index\n",
    "\n",
    "def plot_scatter(group_patients, group_name, ax_index, top_5_genes, rna_data, protein_data):\n",
    "    for gene in top_5_genes:\n",
    "        if gene in rna_data.columns and gene in protein_data.columns:\n",
    "            sns.scatterplot(ax=axes[ax_index], \n",
    "                            x=rna_data.loc[group_patients, gene], \n",
    "                            y=protein_data.loc[group_patients, gene], \n",
    "                            label=gene)\n",
    "    axes[ax_index].set_title(f'{group_name} Samples')\n",
    "    axes[ax_index].set_xlabel('RNA Expression')\n",
    "    if ax_index == 0:\n",
    "        axes[ax_index].set_ylabel('Protein Expression')\n",
    "    axes[ax_index].legend(title='Gene')\n",
    "\n",
    "fig, axes = plt.subplots(1, 2, figsize=(14, 6), sharey=True)\n",
    "fig.suptitle('RNA vs. Protein Expression for Top 5 Differentially Expressed Genes')\n",
    "\n",
    "plot_scatter(tumor_patients, 'Tumor', 0, top_5_genes, rna_data, protein_data)\n",
    "plot_scatter(normal_patients, 'Normal', 1, top_5_genes, rna_data, protein_data)\n",
    "\n",
    "plt.tight_layout()\n",
    "plt.show()\n"
   ]
  },
  {
   "cell_type": "markdown",
   "id": "d374d6f3",
   "metadata": {},
   "source": [
    "## 2. Interpretation Skills\n",
    "This section is short-answer based written responses. Please respond in 2-3 sentences to each question below for full credit.\n",
    "1. What do the numbers within the protein and transcriptomics DataFrames represent? Why do we represent them this way?\n",
    "2. Why are there fewer columns in the protein DataFrame than the transcriptomics one?\n",
    "3. Explain how the central dogma may be broken in between DNA -> RNA -> Proteins and how this might affect our proteomics data.\n",
    "5. Why is proteomics data relatively scarce compared to sequencing data?\n",
    "6. Should we ever expect protein expression to be 0 in a tumor sample?\n",
    "7. What are protein domains and how do they relate to the role of a protein?\n"
   ]
  },
  {
   "cell_type": "code",
   "execution_count": 83,
   "id": "db07b231",
   "metadata": {},
   "outputs": [],
   "source": [
    "# write code here\n",
    "\n",
    "1. The numbers represent the expression levels, like a measure of how active or present certain proteins or RNA transcripts are in \n",
    "a sample, relative to their baseline. This allows researchers to pinpoint which proteins or genes are over- or under-expressed in different conditions.\n",
    "\n",
    "2. The reason there are fewer proteins listed compared to RNA transcripts is because not every transcript gets translated into a protein, \n",
    "and the process of detecting and quantifying proteins is inherently more complex. This iss due to technical and biological factors, such as the \n",
    "presence of various post-translational modifications.\n",
    "\n",
    "3. The classic flow of genetic information (DNA -> RNA -> Protein) isn't always straightforward. RNA splicing, RNA editing, and \n",
    "post-translational modifications can lead to a variety of outcomes from a single gene sequence, introducing complexity that might not \n",
    "be directly inferred from RNA data alone. This can sometimes make proteomics data seem less predictable when compared to transcriptomic.\n",
    "\n",
    "4. Compared to genomic and transcriptomic data, proteomic datasets are less abundant, mainly due to the higher technical challenges \n",
    "and costs associated with proteomics studies. The vast dynamic range of protein expression, alongside the technicalities involved in \n",
    "detecting low-abundance proteins and post-translational modifications, contributes to the relative lack of comprehensive \n",
    "proteomics datasets.\n",
    "\n",
    "5. While unusual, it is possible for specific proteins to have 0 expression in a tumor samples, especially if their corresponding genes \n",
    "are silenced through various regulatory mechanisms or if the proteins are degraded. It's important to consider the complexity of \n",
    "cellular regulation and protein stability.\n",
    "\n",
    "6.  Protein domains represent functional or structural units within proteins that contribute to their overall activity and interactions. \n",
    "Each domain can be thought of as a modular component that endows the protein with specific capabilities, each with individual tools within \n",
    "a larger setting. Understanding these domains is crucial for understanding the protein's function and the potential impact of mutations \n",
    "or alterations within these domains on cellular processes."
   ]
  },
  {
   "cell_type": "markdown",
   "id": "6b5fe38f",
   "metadata": {
    "jp-MarkdownHeadingCollapsed": true
   },
   "source": [
    "## 3. Challenge Exercise - Incorporating Genomics\n",
    "This exercise is optional and is worth extra credit up to 5 points. The combined extra credit between challenge exercises will cap out at 5 points total.\n",
    "<br></br>\n",
    "We can get somatic mutation data for cptac patients the same way we get proteomics, transcriptomical, or clinical. Let's explore some aspects of it.\n",
    "1. Save the cancer somatic mutation data to `mutation_data`\n",
    "2. Determine the top 10 most commonly mutated genes within the dataset.\n",
    "3. Determine what percent of patients have a mutation in at least one of those genes.\n",
    "4. Create a bar plot that shows percent percent of patients that have exactly 0-10 out of 10 of those mutations. Name axes and titles appropriately."
   ]
  },
  {
   "cell_type": "code",
   "execution_count": 117,
   "id": "6c491898",
   "metadata": {},
   "outputs": [
    {
     "name": "stdout",
     "output_type": "stream",
     "text": [
      "                                         \r"
     ]
    },
    {
     "ename": "KeyError",
     "evalue": "'Patient_ID'",
     "output_type": "error",
     "traceback": [
      "\u001b[0;31m---------------------------------------------------------------------------\u001b[0m",
      "\u001b[0;31mKeyError\u001b[0m                                  Traceback (most recent call last)",
      "File \u001b[0;32m/opt/miniconda3/envs/qbio_490_dana/lib/python3.9/site-packages/pandas/core/indexes/base.py:3805\u001b[0m, in \u001b[0;36mIndex.get_loc\u001b[0;34m(self, key)\u001b[0m\n\u001b[1;32m   3804\u001b[0m \u001b[38;5;28;01mtry\u001b[39;00m:\n\u001b[0;32m-> 3805\u001b[0m     \u001b[38;5;28;01mreturn\u001b[39;00m \u001b[38;5;28;43mself\u001b[39;49m\u001b[38;5;241;43m.\u001b[39;49m\u001b[43m_engine\u001b[49m\u001b[38;5;241;43m.\u001b[39;49m\u001b[43mget_loc\u001b[49m\u001b[43m(\u001b[49m\u001b[43mcasted_key\u001b[49m\u001b[43m)\u001b[49m\n\u001b[1;32m   3806\u001b[0m \u001b[38;5;28;01mexcept\u001b[39;00m \u001b[38;5;167;01mKeyError\u001b[39;00m \u001b[38;5;28;01mas\u001b[39;00m err:\n",
      "File \u001b[0;32mindex.pyx:167\u001b[0m, in \u001b[0;36mpandas._libs.index.IndexEngine.get_loc\u001b[0;34m()\u001b[0m\n",
      "File \u001b[0;32mindex.pyx:196\u001b[0m, in \u001b[0;36mpandas._libs.index.IndexEngine.get_loc\u001b[0;34m()\u001b[0m\n",
      "File \u001b[0;32mpandas/_libs/hashtable_class_helper.pxi:7081\u001b[0m, in \u001b[0;36mpandas._libs.hashtable.PyObjectHashTable.get_item\u001b[0;34m()\u001b[0m\n",
      "File \u001b[0;32mpandas/_libs/hashtable_class_helper.pxi:7089\u001b[0m, in \u001b[0;36mpandas._libs.hashtable.PyObjectHashTable.get_item\u001b[0;34m()\u001b[0m\n",
      "\u001b[0;31mKeyError\u001b[0m: 'Patient_ID'",
      "\nThe above exception was the direct cause of the following exception:\n",
      "\u001b[0;31mKeyError\u001b[0m                                  Traceback (most recent call last)",
      "Cell \u001b[0;32mIn[117], line 15\u001b[0m\n\u001b[1;32m     12\u001b[0m top_10_genes \u001b[38;5;241m=\u001b[39m mutation_counts\u001b[38;5;241m.\u001b[39mhead(\u001b[38;5;241m10\u001b[39m)\u001b[38;5;241m.\u001b[39mindex\u001b[38;5;241m.\u001b[39mtolist()\n\u001b[1;32m     14\u001b[0m \u001b[38;5;66;03m# Determine what percent of patients have a mutation in at least one of those genes\u001b[39;00m\n\u001b[0;32m---> 15\u001b[0m patients_with_mutation \u001b[38;5;241m=\u001b[39m \u001b[43mmutation_data\u001b[49m\u001b[43m[\u001b[49m\u001b[43mmutation_data\u001b[49m\u001b[43m[\u001b[49m\u001b[38;5;124;43m'\u001b[39;49m\u001b[38;5;124;43mGene\u001b[39;49m\u001b[38;5;124;43m'\u001b[39;49m\u001b[43m]\u001b[49m\u001b[38;5;241;43m.\u001b[39;49m\u001b[43misin\u001b[49m\u001b[43m(\u001b[49m\u001b[43mtop_10_genes\u001b[49m\u001b[43m)\u001b[49m\u001b[43m]\u001b[49m\u001b[43m[\u001b[49m\u001b[38;5;124;43m'\u001b[39;49m\u001b[38;5;124;43mPatient_ID\u001b[39;49m\u001b[38;5;124;43m'\u001b[39;49m\u001b[43m]\u001b[49m\u001b[38;5;241m.\u001b[39munique()\n\u001b[1;32m     16\u001b[0m percent_with_mutation \u001b[38;5;241m=\u001b[39m \u001b[38;5;28mlen\u001b[39m(patients_with_mutation) \u001b[38;5;241m/\u001b[39m \u001b[38;5;28mlen\u001b[39m(mutation_data[\u001b[38;5;124m'\u001b[39m\u001b[38;5;124mPatient_ID\u001b[39m\u001b[38;5;124m'\u001b[39m]\u001b[38;5;241m.\u001b[39munique()) \u001b[38;5;241m*\u001b[39m \u001b[38;5;241m100\u001b[39m\n\u001b[1;32m     18\u001b[0m \u001b[38;5;66;03m# Create a bar plot showing the percent of patients with 0-10 of those mutations\u001b[39;00m\n",
      "File \u001b[0;32m/opt/miniconda3/envs/qbio_490_dana/lib/python3.9/site-packages/pandas/core/frame.py:4090\u001b[0m, in \u001b[0;36mDataFrame.__getitem__\u001b[0;34m(self, key)\u001b[0m\n\u001b[1;32m   4088\u001b[0m \u001b[38;5;28;01mif\u001b[39;00m \u001b[38;5;28mself\u001b[39m\u001b[38;5;241m.\u001b[39mcolumns\u001b[38;5;241m.\u001b[39mnlevels \u001b[38;5;241m>\u001b[39m \u001b[38;5;241m1\u001b[39m:\n\u001b[1;32m   4089\u001b[0m     \u001b[38;5;28;01mreturn\u001b[39;00m \u001b[38;5;28mself\u001b[39m\u001b[38;5;241m.\u001b[39m_getitem_multilevel(key)\n\u001b[0;32m-> 4090\u001b[0m indexer \u001b[38;5;241m=\u001b[39m \u001b[38;5;28;43mself\u001b[39;49m\u001b[38;5;241;43m.\u001b[39;49m\u001b[43mcolumns\u001b[49m\u001b[38;5;241;43m.\u001b[39;49m\u001b[43mget_loc\u001b[49m\u001b[43m(\u001b[49m\u001b[43mkey\u001b[49m\u001b[43m)\u001b[49m\n\u001b[1;32m   4091\u001b[0m \u001b[38;5;28;01mif\u001b[39;00m is_integer(indexer):\n\u001b[1;32m   4092\u001b[0m     indexer \u001b[38;5;241m=\u001b[39m [indexer]\n",
      "File \u001b[0;32m/opt/miniconda3/envs/qbio_490_dana/lib/python3.9/site-packages/pandas/core/indexes/base.py:3812\u001b[0m, in \u001b[0;36mIndex.get_loc\u001b[0;34m(self, key)\u001b[0m\n\u001b[1;32m   3807\u001b[0m     \u001b[38;5;28;01mif\u001b[39;00m \u001b[38;5;28misinstance\u001b[39m(casted_key, \u001b[38;5;28mslice\u001b[39m) \u001b[38;5;129;01mor\u001b[39;00m (\n\u001b[1;32m   3808\u001b[0m         \u001b[38;5;28misinstance\u001b[39m(casted_key, abc\u001b[38;5;241m.\u001b[39mIterable)\n\u001b[1;32m   3809\u001b[0m         \u001b[38;5;129;01mand\u001b[39;00m \u001b[38;5;28many\u001b[39m(\u001b[38;5;28misinstance\u001b[39m(x, \u001b[38;5;28mslice\u001b[39m) \u001b[38;5;28;01mfor\u001b[39;00m x \u001b[38;5;129;01min\u001b[39;00m casted_key)\n\u001b[1;32m   3810\u001b[0m     ):\n\u001b[1;32m   3811\u001b[0m         \u001b[38;5;28;01mraise\u001b[39;00m InvalidIndexError(key)\n\u001b[0;32m-> 3812\u001b[0m     \u001b[38;5;28;01mraise\u001b[39;00m \u001b[38;5;167;01mKeyError\u001b[39;00m(key) \u001b[38;5;28;01mfrom\u001b[39;00m \u001b[38;5;21;01merr\u001b[39;00m\n\u001b[1;32m   3813\u001b[0m \u001b[38;5;28;01mexcept\u001b[39;00m \u001b[38;5;167;01mTypeError\u001b[39;00m:\n\u001b[1;32m   3814\u001b[0m     \u001b[38;5;66;03m# If we have a listlike key, _check_indexing_error will raise\u001b[39;00m\n\u001b[1;32m   3815\u001b[0m     \u001b[38;5;66;03m#  InvalidIndexError. Otherwise we fall through and re-raise\u001b[39;00m\n\u001b[1;32m   3816\u001b[0m     \u001b[38;5;66;03m#  the TypeError.\u001b[39;00m\n\u001b[1;32m   3817\u001b[0m     \u001b[38;5;28mself\u001b[39m\u001b[38;5;241m.\u001b[39m_check_indexing_error(key)\n",
      "\u001b[0;31mKeyError\u001b[0m: 'Patient_ID'"
     ]
    }
   ],
   "source": [
    "# write code here\n",
    "import cptac\n",
    "import matplotlib.pyplot as plt\n",
    "\n",
    "cptac.download('brca')\n",
    "brca = cptac.Brca()\n",
    "\n",
    "mutation_data = brca.get_somatic_mutation()\n",
    "\n",
    "mutation_counts = mutation_data['Gene'].value_counts()\n",
    "top_10_genes = mutation_counts.head(10).index.tolist()\n",
    "\n",
    "patients_with_mutation = mutation_data[mutation_data['Gene'].isin(top_10_genes)]['Patient_ID'].unique()\n",
    "percent_with_mutation = len(patients_with_mutation) / len(mutation_data['Patient_ID'].unique()) * 100\n",
    "\n",
    "mutation_data_top_10 = mutation_data[mutation_data['Gene'].isin(top_10_genes)]\n",
    "mutation_counts_per_patient = mutation_data_top_10.groupby('Patient_ID').size()\n",
    "mutation_counts_distribution = mutation_counts_per_patient.value_counts().reindex(range(11), fill_value=0)\n",
    "mutation_percent_distribution = (mutation_counts_distribution / len(mutation_data['Patient_ID'].unique())) * 100\n",
    "\n",
    "plt.bar(mutation_percent_distribution.index, mutation_percent_distribution.values)\n",
    "plt.xlabel('Number of Mutations in Top 10 Genes')\n",
    "plt.ylabel('Percentage of Patients')\n",
    "plt.title('Distribution of Mutations in Top 10 Genes Among Patients')\n",
    "plt.xticks(range(11))\n",
    "plt.show()\n",
    "\n"
   ]
  }
 ],
 "metadata": {
  "kernelspec": {
   "display_name": "Python 3 (ipykernel)",
   "language": "python",
   "name": "python3"
  },
  "language_info": {
   "codemirror_mode": {
    "name": "ipython",
    "version": 3
   },
   "file_extension": ".py",
   "mimetype": "text/x-python",
   "name": "python",
   "nbconvert_exporter": "python",
   "pygments_lexer": "ipython3",
   "version": "3.9.18"
  }
 },
 "nbformat": 4,
 "nbformat_minor": 5
}
